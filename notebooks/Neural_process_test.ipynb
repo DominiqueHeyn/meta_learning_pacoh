{
 "cells": [
  {
   "cell_type": "code",
   "execution_count": 1,
   "metadata": {},
   "outputs": [],
   "source": [
    "import os\n",
    "import sys\n",
    "\n",
    "BASE_DIR = os.path.dirname(os.path.abspath(\"\"))\n",
    "\n",
    "sys.path.append(BASE_DIR)"
   ]
  },
  {
   "cell_type": "code",
   "execution_count": 2,
   "metadata": {},
   "outputs": [],
   "source": [
    "os.environ[\"CUDA_VISIBLE_DEVICES\"] = \"\""
   ]
  },
  {
   "cell_type": "code",
   "execution_count": 3,
   "metadata": {},
   "outputs": [],
   "source": [
    "import numpy as np\n",
    "import torch\n",
    "from matplotlib import pyplot as plt"
   ]
  },
  {
   "cell_type": "code",
   "execution_count": 4,
   "metadata": {},
   "outputs": [],
   "source": [
    "from src.GPR_meta_mll import GPRegressionMetaLearned"
   ]
  },
  {
   "cell_type": "code",
   "execution_count": 5,
   "metadata": {},
   "outputs": [],
   "source": [
    "from experiments.data_sim import SinusoidDataset"
   ]
  },
  {
   "cell_type": "markdown",
   "metadata": {},
   "source": [
    "## Load data"
   ]
  },
  {
   "cell_type": "code",
   "execution_count": 6,
   "metadata": {},
   "outputs": [],
   "source": [
    "data_sim = SinusoidDataset(random_state=np.random.RandomState(29))\n",
    "meta_train_data = data_sim.generate_meta_train_data(n_tasks=20, n_samples=10)\n",
    "meta_test_data = data_sim.generate_meta_test_data(n_tasks=50, n_samples_context=10, n_samples_test=160)"
   ]
  },
  {
   "cell_type": "markdown",
   "metadata": {},
   "source": [
    "## Fit meta-GP model"
   ]
  },
  {
   "cell_type": "code",
   "execution_count": 7,
   "metadata": {},
   "outputs": [],
   "source": [
    "meta_gp = GPRegressionMetaLearned(meta_train_data=meta_train_data)"
   ]
  },
  {
   "cell_type": "code",
   "execution_count": 8,
   "metadata": {},
   "outputs": [
    {
     "name": "stderr",
     "output_type": "stream",
     "text": [
      "[2020-01-09 16:27:15,277 -INFO]  Iter 1/10000 - Loss: 0.600370 - Time 0.09 sec - Valid-LL: -1.407 - Valid-RMSE: 1.079 - Calib-Err 0.102\n",
      "[2020-01-09 16:27:23,490 -INFO]  Iter 500/10000 - Loss: 0.497752 - Time 8.35 sec - Valid-LL: -1.241 - Valid-RMSE: 0.785 - Calib-Err 0.096\n",
      "[2020-01-09 16:27:31,599 -INFO]  Iter 1000/10000 - Loss: 0.406006 - Time 8.00 sec - Valid-LL: -0.904 - Valid-RMSE: 0.448 - Calib-Err 0.145\n",
      "[2020-01-09 16:27:39,402 -INFO]  Iter 1500/10000 - Loss: 0.249130 - Time 7.69 sec - Valid-LL: -0.612 - Valid-RMSE: 0.315 - Calib-Err 0.161\n",
      "[2020-01-09 16:27:47,279 -INFO]  Iter 2000/10000 - Loss: 0.139729 - Time 7.79 sec - Valid-LL: -0.392 - Valid-RMSE: 0.293 - Calib-Err 0.141\n",
      "[2020-01-09 16:27:55,173 -INFO]  Iter 2500/10000 - Loss: 0.054826 - Time 7.80 sec - Valid-LL: -0.209 - Valid-RMSE: 0.282 - Calib-Err 0.120\n",
      "[2020-01-09 16:28:03,193 -INFO]  Iter 3000/10000 - Loss: -0.011192 - Time 7.94 sec - Valid-LL: -0.045 - Valid-RMSE: 0.266 - Calib-Err 0.107\n",
      "[2020-01-09 16:28:11,401 -INFO]  Iter 3500/10000 - Loss: -0.061763 - Time 8.13 sec - Valid-LL: 0.050 - Valid-RMSE: 0.261 - Calib-Err 0.093\n",
      "[2020-01-09 16:28:19,493 -INFO]  Iter 4000/10000 - Loss: -0.102207 - Time 8.01 sec - Valid-LL: 0.126 - Valid-RMSE: 0.248 - Calib-Err 0.090\n",
      "[2020-01-09 16:28:27,853 -INFO]  Iter 4500/10000 - Loss: -0.118929 - Time 8.25 sec - Valid-LL: 0.168 - Valid-RMSE: 0.248 - Calib-Err 0.088\n",
      "[2020-01-09 16:28:36,209 -INFO]  Iter 5000/10000 - Loss: -0.151445 - Time 8.23 sec - Valid-LL: 0.286 - Valid-RMSE: 0.234 - Calib-Err 0.105\n",
      "[2020-01-09 16:28:44,640 -INFO]  Iter 5500/10000 - Loss: -0.178299 - Time 8.30 sec - Valid-LL: 0.398 - Valid-RMSE: 0.231 - Calib-Err 0.099\n",
      "[2020-01-09 16:28:52,832 -INFO]  Iter 6000/10000 - Loss: -0.189329 - Time 8.15 sec - Valid-LL: 0.360 - Valid-RMSE: 0.214 - Calib-Err 0.104\n",
      "[2020-01-09 16:29:00,816 -INFO]  Iter 6500/10000 - Loss: -0.192240 - Time 7.91 sec - Valid-LL: 0.381 - Valid-RMSE: 0.218 - Calib-Err 0.106\n",
      "[2020-01-09 16:29:09,007 -INFO]  Iter 7000/10000 - Loss: -0.196780 - Time 7.98 sec - Valid-LL: 0.345 - Valid-RMSE: 0.217 - Calib-Err 0.113\n",
      "[2020-01-09 16:29:17,199 -INFO]  Iter 7500/10000 - Loss: -0.200554 - Time 8.20 sec - Valid-LL: 0.374 - Valid-RMSE: 0.213 - Calib-Err 0.102\n",
      "[2020-01-09 16:29:25,573 -INFO]  Iter 8000/10000 - Loss: -0.207174 - Time 8.25 sec - Valid-LL: 0.333 - Valid-RMSE: 0.213 - Calib-Err 0.109\n",
      "[2020-01-09 16:29:33,584 -INFO]  Iter 8500/10000 - Loss: -0.206935 - Time 7.89 sec - Valid-LL: 0.363 - Valid-RMSE: 0.218 - Calib-Err 0.114\n",
      "[2020-01-09 16:29:41,867 -INFO]  Iter 9000/10000 - Loss: -0.210368 - Time 8.23 sec - Valid-LL: 0.206 - Valid-RMSE: 0.225 - Calib-Err 0.113\n",
      "[2020-01-09 16:29:50,055 -INFO]  Iter 9500/10000 - Loss: -0.212631 - Time 8.07 sec - Valid-LL: 0.332 - Valid-RMSE: 0.205 - Calib-Err 0.106\n",
      "[2020-01-09 16:29:58,247 -INFO]  Iter 10000/10000 - Loss: -0.217641 - Time 8.08 sec - Valid-LL: 0.230 - Valid-RMSE: 0.220 - Calib-Err 0.113\n"
     ]
    },
    {
     "data": {
      "text/plain": [
       "-0.26005834341049194"
      ]
     },
     "execution_count": 8,
     "metadata": {},
     "output_type": "execute_result"
    }
   ],
   "source": [
    "meta_gp.meta_fit(valid_tuples=meta_test_data)"
   ]
  },
  {
   "cell_type": "code",
   "execution_count": 9,
   "metadata": {},
   "outputs": [],
   "source": [
    "test_context_x, test_context_y, test_target_x, test_target_y = meta_test_data[0]"
   ]
  },
  {
   "cell_type": "code",
   "execution_count": 10,
   "metadata": {},
   "outputs": [
    {
     "data": {
      "image/png": "[encoded data removed]",
      "text/plain": [
       "<Figure size 432x288 with 1 Axes>"
      ]
     },
     "metadata": {
      "needs_background": "light"
     },
     "output_type": "display_data"
    }
   ],
   "source": [
    "x_plot = np.linspace(-5, 5, num=150)\n",
    "pred_mean, pred_std = meta_gp.predict(context_x=test_context_x, context_y=test_context_y, test_x=x_plot)\n",
    "ucb, lcb = meta_gp.confidence_intervals(test_context_x, test_context_y, x_plot, confidence=0.9)\n",
    "\n",
    "plt.scatter(test_context_x, test_context_y)\n",
    "plt.scatter(test_target_x, test_target_y)\n",
    "\n",
    "plt.plot(x_plot, pred_mean)\n",
    "plt.fill_between(x_plot, lcb, ucb, alpha=0.2)\n",
    "plt.title('GPR meta mll')\n",
    "plt.show()"
   ]
  },
  {
   "cell_type": "code",
   "execution_count": 11,
   "metadata": {},
   "outputs": [],
   "source": [
    "old_state = meta_gp.state_dict()"
   ]
  },
  {
   "cell_type": "code",
   "execution_count": 12,
   "metadata": {},
   "outputs": [
    {
     "data": {
      "text/plain": [
       "0.030964940447804505"
      ]
     },
     "execution_count": 12,
     "metadata": {},
     "output_type": "execute_result"
    }
   ],
   "source": [
    "pred_mean, pred_std = meta_gp.predict(context_x=test_context_x, context_y=test_context_y, test_x=test_target_x)\n",
    "\n",
    "((pred_mean - test_target_y.flatten())**2).mean()"
   ]
  },
  {
   "cell_type": "code",
   "execution_count": 13,
   "metadata": {},
   "outputs": [],
   "source": [
    "meta_gp = GPRegressionMetaLearned(meta_train_data=meta_train_data)"
   ]
  },
  {
   "cell_type": "code",
   "execution_count": 14,
   "metadata": {},
   "outputs": [
    {
     "data": {
      "text/plain": [
       "2.718943802344488"
      ]
     },
     "execution_count": 14,
     "metadata": {},
     "output_type": "execute_result"
    }
   ],
   "source": [
    "pred_mean, pred_std = meta_gp.predict(context_x=test_context_x, context_y=test_context_y, test_x=test_target_x)\n",
    "\n",
    "((pred_mean - test_target_y.flatten())**2).mean()"
   ]
  },
  {
   "cell_type": "code",
   "execution_count": 15,
   "metadata": {},
   "outputs": [],
   "source": [
    "meta_gp.load_state_dict(old_state)"
   ]
  },
  {
   "cell_type": "code",
   "execution_count": 16,
   "metadata": {},
   "outputs": [
    {
     "data": {
      "text/plain": [
       "0.030964940447804505"
      ]
     },
     "execution_count": 16,
     "metadata": {},
     "output_type": "execute_result"
    }
   ],
   "source": [
    "pred_mean, pred_std = meta_gp.predict(context_x=test_context_x, context_y=test_context_y, test_x=test_target_x)\n",
    "\n",
    "((pred_mean - test_target_y.flatten())**2).mean()"
   ]
  },
  {
   "cell_type": "markdown",
   "metadata": {},
   "source": [
    "## Build NP model"
   ]
  },
  {
   "cell_type": "code",
   "execution_count": 17,
   "metadata": {},
   "outputs": [],
   "source": [
    "import time\n",
    "\n",
    "from torch.distributions.kl import kl_divergence\n",
    "from torch.utils.data import DataLoader\n",
    "\n",
    "from third_party.neural_processes.utils import context_target_split\n",
    "from third_party.neural_processes.training import NeuralProcessTrainer\n",
    "from third_party.neural_processes.datasets import SineData\n",
    "from third_party.neural_processes.neural_process import NeuralProcess\n",
    "\n",
    "from src.models import LearnedGPRegressionModel, NeuralNetwork, AffineTransformedDistribution\n",
    "from src.util import _handle_input_dimensionality, DummyLRScheduler\n",
    "from src.abstract import RegressionModelMetaLearned\n",
    "from config import device\n",
    "\n",
    "%load_ext autoreload\n",
    "%autoreload 2"
   ]
  },
  {
   "cell_type": "code",
   "execution_count": 20,
   "metadata": {},
   "outputs": [],
   "source": [
    "class NPRegressionMetaLearned(RegressionModelMetaLearned):\n",
    "\n",
    "    def __init__(self, meta_train_data, num_context, num_extra_target, lr_params=1e-3, r_dim=50, z_dim=50, h_dim=50, num_iter_fit=10000,\n",
    "                 task_batch_size=5, normalize_data=True, optimizer='Adam', lr_decay=1.0, random_seed=None):\n",
    "        \"\"\"\n",
    "        Neural Process regression model (https://arxiv.org/abs/1807.01622) that supports meta-learning.\n",
    "\n",
    "        Args:\n",
    "            meta_train_data: list of tuples of ndarrays[(train_x_1, train_t_1), ..., (train_x_n, train_t_n)]\n",
    "            lr_params: (float) learning rate for prior parameters\n",
    "            r_dim: (float) dimensionality of the context representation\n",
    "            z_dim: (float) dimensionality of the latent variable\n",
    "            h_dim: (float) layer width of encoder and decoder\n",
    "            num_iter_fit: (int) number of gradient steps for fitting the parameters\n",
    "            task_batch_size: (int) batch size for meta training, i.e. number of tasks for computing grads\n",
    "            normalize_data: (bool) decides whether the input data should be normalized\n",
    "            optimizer: (str) type of optimizer to use - must be either 'Adam' or 'SGD'\n",
    "            lr_decay: (float) decay rate for the learning rate\n",
    "            random_seed: (int) seed for pytorch\n",
    "        \"\"\"\n",
    "        super().__init__(normalize_data, random_seed)\n",
    "\n",
    "        assert optimizer in ['Adam', 'SGD']\n",
    "\n",
    "        self.num_context, self.num_extra_target = num_context, num_extra_target\n",
    "        self.lr_params, self.r_dim, self.z_dim, self.h_dim = lr_params, r_dim, z_dim, h_dim\n",
    "        self.num_iter_fit, self.task_batch_size, self.normalize_data = num_iter_fit, task_batch_size, normalize_data\n",
    "\n",
    "        # Check that data all has the same size\n",
    "        self._check_meta_data_shapes(meta_train_data)\n",
    "        self._compute_normalization_stats(meta_train_data)\n",
    "        \n",
    "        self.input_dim = meta_train_data[0][0].shape[-1]\n",
    "        self.output_dim = meta_train_data[0][1].shape[-1]\n",
    "        \n",
    "        self.model = NeuralProcess(x_dim=self.input_dim,\n",
    "                                  y_dim=self.output_dim,\n",
    "                                  r_dim=self.r_dim,\n",
    "                                  z_dim=self.z_dim,\n",
    "                                  h_dim=self.h_dim)\n",
    "\n",
    "        # Setup components that are shared across tasks\n",
    "        self.shared_parameters = self.model.parameters()\n",
    "\n",
    "        # Setup components that are different across tasks\n",
    "        self.task_dicts = []\n",
    "\n",
    "        for train_x, train_y in meta_train_data: # TODO: consider parallelizing this loop\n",
    "            task_dict = {}\n",
    "            \n",
    "            if len(train_x) < 10:\n",
    "                print(len(train_x))\n",
    "\n",
    "            # a) prepare data\n",
    "            x_tensor, y_tensor = self._prepare_data_per_task(train_x, train_y, flatten_y=False)\n",
    "            task_dict['train_x'], task_dict['train_y'] = x_tensor, y_tensor\n",
    "\n",
    "            self.task_dicts.append(task_dict)\n",
    "\n",
    "        # c) prepare inference\n",
    "        self._setup_optimizer(optimizer, lr_params, lr_decay)\n",
    "\n",
    "        self.fitted = False\n",
    "\n",
    "\n",
    "    def meta_fit(self, valid_tuples=None, verbose=True, log_period=500, n_iter=None):\n",
    "        \"\"\"\n",
    "        fits the parameters of the Neural Process model\n",
    "\n",
    "        Args:\n",
    "            valid_tuples: list of valid tuples, i.e. [(test_context_x_1, test_context_t_1, test_x_1, test_t_1), ...]\n",
    "            verbose: (boolean) whether to print training progress\n",
    "            log_period: (int) number of steps after which to print stats\n",
    "            n_iter: (int) number of gradient descent iterations\n",
    "        \"\"\"\n",
    "        self.model.train()\n",
    "\n",
    "        assert (valid_tuples is None) or (all([len(valid_tuple) == 4 for valid_tuple in valid_tuples]))\n",
    "\n",
    "        t = time.time()\n",
    "        cum_loss = 0.0\n",
    "\n",
    "        if n_iter is None:\n",
    "            n_iter = self.num_iter_fit\n",
    "\n",
    "        for itr in range(1, n_iter + 1):\n",
    "\n",
    "            loss = 0.0\n",
    "            self.optimizer.zero_grad()\n",
    "                \n",
    "            batch = self.rds_numpy.choice(self.task_dicts, size=self.task_batch_size)\n",
    "            batch_x = torch.stack([task[\"train_x\"] for task in batch])\n",
    "            batch_y = torch.stack([task[\"train_y\"] for task in batch])\n",
    "                        \n",
    "            x_context, y_context, x_target, y_target = \\\n",
    "                context_target_split(batch_x, batch_y,\n",
    "                                     self.num_context, self.num_extra_target)\n",
    "            p_y_pred, q_target, q_context = \\\n",
    "                self.model(x_context, y_context, x_target, y_target)\n",
    "            loss = self._loss(p_y_pred, y_target, q_target, q_context)\n",
    "\n",
    "            loss.backward()\n",
    "            self.optimizer.step()\n",
    "            self.lr_scheduler.step()\n",
    "\n",
    "            cum_loss += loss\n",
    "\n",
    "            # print training stats stats\n",
    "            if itr == 1 or itr % log_period == 0:\n",
    "                duration = time.time() - t\n",
    "                avg_loss = cum_loss / (log_period if itr > 1 else 1.0)\n",
    "                cum_loss = 0.0\n",
    "                t = time.time()\n",
    "\n",
    "                message = 'Iter %d/%d - Loss: %.6f - Time %.2f sec' % (itr, self.num_iter_fit, avg_loss.item(), duration)\n",
    "\n",
    "                # if validation data is provided  -> compute the valid log-likelihood\n",
    "                if valid_tuples is not None:\n",
    "                    self.model.eval()\n",
    "                    valid_ll, valid_rmse, calibr_err = self.eval_datasets(valid_tuples, flatten_y=False)\n",
    "                    self.model.train()\n",
    "                    message += ' - Valid-LL: %.3f - Valid-RMSE: %.3f - Calib-Err %.3f' % (valid_ll, valid_rmse, calibr_err)\n",
    "\n",
    "                if verbose:\n",
    "                    self.logger.info(message)\n",
    "\n",
    "\n",
    "        self.fitted = True\n",
    "\n",
    "        self.model.eval()\n",
    "        return loss.item()\n",
    "\n",
    "    \n",
    "    def predict(self, context_x, context_y, test_x, return_density=False):\n",
    "        \"\"\"\n",
    "        computes the predictive distribution of the targets p(t|test_x, test_context_x, context_y)\n",
    "\n",
    "        Args:\n",
    "            context_x: (ndarray) context input data for which to compute the posterior\n",
    "            context_y: (ndarray) context targets for which to compute the posterior\n",
    "            test_x: (ndarray) query input data of shape (n_samples, ndim_x)\n",
    "            return_density: (bool) whether to return result as mean and std ndarray or as MultivariateNormal pytorch object\n",
    "\n",
    "        Returns:\n",
    "            (pred_mean, pred_std) predicted mean and standard deviation corresponding to p(t|test_x, test_context_x, context_y)\n",
    "        \"\"\"\n",
    "\n",
    "        train_old = self.model.training\n",
    "        self.model.eval()\n",
    "        \n",
    "        context_x, context_y = _handle_input_dimensionality(context_x, context_y)\n",
    "        test_x = _handle_input_dimensionality(test_x)\n",
    "        assert test_x.shape[1] == context_x.shape[1]\n",
    "\n",
    "        # normalize data and convert to tensor\n",
    "        context_x, context_y = self._prepare_data_per_task(context_x, context_y, flatten_y=False)\n",
    "\n",
    "        test_x = self._normalize_data(X=test_x, Y=None)\n",
    "        test_x = torch.from_numpy(test_x).float().to(device)\n",
    "        \n",
    "        context_x = torch.unsqueeze(context_x, 0)\n",
    "        context_y = torch.unsqueeze(context_y, 0)\n",
    "        test_x = torch.unsqueeze(test_x, 0)\n",
    "\n",
    "        with torch.no_grad():\n",
    "            # compute posterior given the context data\n",
    "            pred_dist = self.model(context_x, context_y, test_x)\n",
    "            pred_dist_transformed = AffineTransformedDistribution(pred_dist, normalization_mean=self.y_mean,\n",
    "                                                                  normalization_std=self.y_std)            \n",
    "\n",
    "        if train_old:\n",
    "            self.model.train()\n",
    "            \n",
    "        if return_density:\n",
    "            return pred_dist_transformed\n",
    "        else:\n",
    "            pred_mean = pred_dist_transformed.mean\n",
    "            pred_std = pred_dist_transformed.stddev\n",
    "            return pred_mean.cpu().numpy(), pred_std.cpu().numpy()\n",
    "\n",
    "        \n",
    "    def state_dict(self):\n",
    "        state_dict = {\n",
    "            'optimizer': self.optimizer.state_dict(),\n",
    "            'model': self.model.state_dict()\n",
    "        }\n",
    "        for key, tensor in self.model.state_dict().items():\n",
    "            assert torch.all(state_dict['model'][key] == tensor).item()\n",
    "        return state_dict\n",
    "\n",
    "    \n",
    "    def load_state_dict(self, state_dict):\n",
    "        self.model.load_state_dict(state_dict['model'])\n",
    "        self.optimizer.load_state_dict(state_dict['optimizer'])\n",
    "        \n",
    "        \n",
    "    def _loss(self, p_y_pred, y_target, q_target, q_context):\n",
    "        \"\"\"\n",
    "        Computes Neural Process loss.\n",
    "\n",
    "        Parameters\n",
    "        ----------\n",
    "        p_y_pred : one of torch.distributions.Distribution\n",
    "            Distribution over y output by Neural Process.\n",
    "\n",
    "        y_target : torch.Tensor\n",
    "            Shape (batch_size, num_target, y_dim)\n",
    "\n",
    "        q_target : one of torch.distributions.Distribution\n",
    "            Latent distribution for target points.\n",
    "\n",
    "        q_context : one of torch.distributions.Distribution\n",
    "            Latent distribution for context points.\n",
    "        \"\"\"\n",
    "        # Log likelihood has shape (batch_size, num_target, y_dim). Take mean\n",
    "        # over batch and sum over number of targets and dimensions of y\n",
    "        log_likelihood = p_y_pred.log_prob(y_target).mean(dim=0).sum()\n",
    "        # KL has shape (batch_size, r_dim). Take mean over batch and sum over\n",
    "        # r_dim (since r_dim is dimension of normal distribution)\n",
    "        kl = kl_divergence(q_target, q_context).mean(dim=0).sum()\n",
    "        return -log_likelihood + kl\n",
    "    \n",
    "\n",
    "    def _setup_optimizer(self, optimizer, lr, lr_decay):\n",
    "        if optimizer == 'Adam':\n",
    "            self.optimizer = torch.optim.AdamW(self.shared_parameters, lr=lr)\n",
    "        elif optimizer == 'SGD':\n",
    "            self.optimizer = torch.optim.SGD(self.shared_parameters, lr=lr)\n",
    "        else:\n",
    "            raise NotImplementedError('Optimizer must be Adam or SGD')\n",
    "\n",
    "        if lr_decay < 1.0:\n",
    "            self.lr_scheduler = torch.optim.lr_scheduler.StepLR(self.optimizer, 1000, gamma=lr_decay)\n",
    "        else:\n",
    "            self.lr_scheduler = DummyLRScheduler()\n",
    "\n",
    "    def _vectorize_pred_dist(self, pred_dist):\n",
    "        return torch.distributions.Normal(pred_dist.mean, pred_dist.stddev)"
   ]
  },
  {
   "cell_type": "code",
   "execution_count": 21,
   "metadata": {},
   "outputs": [
    {
     "name": "stderr",
     "output_type": "stream",
     "text": [
      "[2020-01-09 16:35:57,098 -INFO]  Iter 1/10000 - Loss: 10.506763 - Time 0.01 sec - Valid-LL: -0.013 - Valid-RMSE: 1.642 - Calib-Err 0.567\n",
      "[2020-01-09 16:35:59,729 -INFO]  Iter 500/10000 - Loss: 8.391348 - Time 2.66 sec - Valid-LL: -0.007 - Valid-RMSE: 0.776 - Calib-Err 0.566\n",
      "[2020-01-09 16:36:02,180 -INFO]  Iter 1000/10000 - Loss: 6.318030 - Time 2.43 sec - Valid-LL: -0.007 - Valid-RMSE: 0.722 - Calib-Err 0.566\n",
      "[2020-01-09 16:36:04,892 -INFO]  Iter 1500/10000 - Loss: 3.905104 - Time 2.70 sec - Valid-LL: -0.004 - Valid-RMSE: 0.498 - Calib-Err 0.566\n",
      "[2020-01-09 16:36:07,555 -INFO]  Iter 2000/10000 - Loss: -0.677310 - Time 2.64 sec - Valid-LL: -0.003 - Valid-RMSE: 0.370 - Calib-Err 0.566\n",
      "[2020-01-09 16:36:10,455 -INFO]  Iter 2500/10000 - Loss: -2.954686 - Time 2.88 sec - Valid-LL: -0.003 - Valid-RMSE: 0.326 - Calib-Err 0.566\n",
      "[2020-01-09 16:36:13,132 -INFO]  Iter 3000/10000 - Loss: -3.575552 - Time 2.66 sec - Valid-LL: -0.002 - Valid-RMSE: 0.294 - Calib-Err 0.566\n",
      "[2020-01-09 16:36:15,752 -INFO]  Iter 3500/10000 - Loss: -4.359546 - Time 2.60 sec - Valid-LL: -0.004 - Valid-RMSE: 0.337 - Calib-Err 0.566\n",
      "[2020-01-09 16:36:18,331 -INFO]  Iter 4000/10000 - Loss: -4.534981 - Time 2.56 sec - Valid-LL: -0.003 - Valid-RMSE: 0.321 - Calib-Err 0.567\n",
      "[2020-01-09 16:36:21,123 -INFO]  Iter 4500/10000 - Loss: -4.852366 - Time 2.77 sec - Valid-LL: -0.003 - Valid-RMSE: 0.309 - Calib-Err 0.566\n",
      "[2020-01-09 16:36:23,918 -INFO]  Iter 5000/10000 - Loss: -5.279576 - Time 2.77 sec - Valid-LL: -0.004 - Valid-RMSE: 0.325 - Calib-Err 0.566\n",
      "[2020-01-09 16:36:26,436 -INFO]  Iter 5500/10000 - Loss: -5.740215 - Time 2.50 sec - Valid-LL: -0.004 - Valid-RMSE: 0.320 - Calib-Err 0.566\n",
      "[2020-01-09 16:36:29,189 -INFO]  Iter 6000/10000 - Loss: -5.847494 - Time 2.73 sec - Valid-LL: -0.003 - Valid-RMSE: 0.301 - Calib-Err 0.566\n",
      "[2020-01-09 16:36:31,794 -INFO]  Iter 6500/10000 - Loss: -6.362351 - Time 2.58 sec - Valid-LL: -0.003 - Valid-RMSE: 0.292 - Calib-Err 0.566\n",
      "[2020-01-09 16:36:34,450 -INFO]  Iter 7000/10000 - Loss: -6.686054 - Time 2.64 sec - Valid-LL: -0.002 - Valid-RMSE: 0.274 - Calib-Err 0.566\n",
      "[2020-01-09 16:36:36,968 -INFO]  Iter 7500/10000 - Loss: -6.995929 - Time 2.50 sec - Valid-LL: -0.004 - Valid-RMSE: 0.306 - Calib-Err 0.566\n",
      "[2020-01-09 16:36:39,868 -INFO]  Iter 8000/10000 - Loss: -7.298965 - Time 2.88 sec - Valid-LL: -0.006 - Valid-RMSE: 0.321 - Calib-Err 0.567\n",
      "[2020-01-09 16:36:42,511 -INFO]  Iter 8500/10000 - Loss: -7.454701 - Time 2.62 sec - Valid-LL: -0.004 - Valid-RMSE: 0.297 - Calib-Err 0.567\n",
      "[2020-01-09 16:36:45,122 -INFO]  Iter 9000/10000 - Loss: -7.779614 - Time 2.60 sec - Valid-LL: -0.005 - Valid-RMSE: 0.295 - Calib-Err 0.567\n",
      "[2020-01-09 16:36:47,645 -INFO]  Iter 9500/10000 - Loss: -7.303967 - Time 2.51 sec - Valid-LL: -0.005 - Valid-RMSE: 0.303 - Calib-Err 0.566\n",
      "[2020-01-09 16:36:50,312 -INFO]  Iter 10000/10000 - Loss: -8.019551 - Time 2.65 sec - Valid-LL: -0.005 - Valid-RMSE: 0.293 - Calib-Err 0.566\n"
     ]
    },
    {
     "data": {
      "text/plain": [
       "-9.42683219909668"
      ]
     },
     "execution_count": 21,
     "metadata": {},
     "output_type": "execute_result"
    }
   ],
   "source": [
    "meta_np = NPRegressionMetaLearned(meta_train_data=meta_train_data, num_context=5, num_extra_target=5)\n",
    "meta_np.meta_fit(valid_tuples=meta_test_data)"
   ]
  },
  {
   "cell_type": "code",
   "execution_count": 22,
   "metadata": {},
   "outputs": [],
   "source": [
    "test_context_x, test_context_y, test_target_x, test_target_y = meta_test_data[0]"
   ]
  },
  {
   "cell_type": "code",
   "execution_count": 23,
   "metadata": {},
   "outputs": [
    {
     "data": {
      "image/png": "[encoded data removed]",
      "text/plain": [
       "<Figure size 432x288 with 1 Axes>"
      ]
     },
     "metadata": {
      "needs_background": "light"
     },
     "output_type": "display_data"
    }
   ],
   "source": [
    "x_plot = np.linspace(-5, 5, num=150)\n",
    "x_plot = x_plot[:, np.newaxis]\n",
    "pred_mean, pred_std = meta_np.predict(context_x=test_context_x, context_y=test_context_y, test_x=x_plot)\n",
    "ucb, lcb = meta_np.confidence_intervals(test_context_x, test_context_y, x_plot, confidence=0.9)\n",
    "\n",
    "plt.scatter(test_context_x, test_context_y)\n",
    "plt.scatter(test_target_x, test_target_y)\n",
    "\n",
    "plt.plot(x_plot.flatten(), pred_mean.flatten())\n",
    "# plt.fill_between(x_plot, lcb, ucb, alpha=0.2)\n",
    "plt.title('NPR meta mll')\n",
    "plt.show()"
   ]
  },
  {
   "cell_type": "code",
   "execution_count": 24,
   "metadata": {},
   "outputs": [],
   "source": [
    "old_state = meta_np.state_dict()"
   ]
  },
  {
   "cell_type": "code",
   "execution_count": 25,
   "metadata": {},
   "outputs": [
    {
     "data": {
      "text/plain": [
       "0.10131026864439921"
      ]
     },
     "execution_count": 25,
     "metadata": {},
     "output_type": "execute_result"
    }
   ],
   "source": [
    "pred_mean, pred_std = meta_np.predict(context_x=test_context_x, context_y=test_context_y, test_x=test_target_x)\n",
    "\n",
    "((pred_mean.flatten() - test_target_y.flatten())**2).mean()"
   ]
  },
  {
   "cell_type": "code",
   "execution_count": 26,
   "metadata": {},
   "outputs": [],
   "source": [
    "meta_np = NPRegressionMetaLearned(meta_train_data=meta_train_data, num_context=5, num_extra_target=5)\n",
    "meta_np.model.eval();"
   ]
  },
  {
   "cell_type": "code",
   "execution_count": 27,
   "metadata": {},
   "outputs": [
    {
     "data": {
      "text/plain": [
       "1.952321980005579"
      ]
     },
     "execution_count": 27,
     "metadata": {},
     "output_type": "execute_result"
    }
   ],
   "source": [
    "pred_mean, pred_std = meta_np.predict(context_x=test_context_x, context_y=test_context_y, test_x=test_target_x)\n",
    "\n",
    "((pred_mean.flatten() - test_target_y.flatten())**2).mean()"
   ]
  },
  {
   "cell_type": "code",
   "execution_count": 28,
   "metadata": {},
   "outputs": [],
   "source": [
    "meta_np.load_state_dict(old_state)"
   ]
  },
  {
   "cell_type": "code",
   "execution_count": 29,
   "metadata": {},
   "outputs": [
    {
     "data": {
      "text/plain": [
       "0.11963868226808042"
      ]
     },
     "execution_count": 29,
     "metadata": {},
     "output_type": "execute_result"
    }
   ],
   "source": [
    "pred_mean, pred_std = meta_np.predict(context_x=test_context_x, context_y=test_context_y, test_x=test_target_x)\n",
    "\n",
    "((pred_mean.flatten() - test_target_y.flatten())**2).mean()"
   ]
  },
  {
   "cell_type": "code",
   "execution_count": null,
   "metadata": {},
   "outputs": [],
   "source": []
  }
 ],
 "metadata": {
  "kernelspec": {
   "display_name": "Python 3",
   "language": "python",
   "name": "python3"
  },
  "language_info": {
   "codemirror_mode": {
    "name": "ipython",
    "version": 3
   },
   "file_extension": ".py",
   "mimetype": "text/x-python",
   "name": "python",
   "nbconvert_exporter": "python",
   "pygments_lexer": "ipython3",
   "version": "3.6.7"
  }
 },
 "nbformat": 4,
 "nbformat_minor": 2
}
