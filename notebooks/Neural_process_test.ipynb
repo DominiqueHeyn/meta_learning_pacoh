{
 "cells": [
  {
   "cell_type": "code",
   "execution_count": 1,
   "metadata": {},
   "outputs": [],
   "source": [
    "import os\n",
    "import sys\n",
    "\n",
    "BASE_DIR = os.path.dirname(os.path.abspath(\"\"))\n",
    "\n",
    "sys.path.append(BASE_DIR)"
   ]
  },
  {
   "cell_type": "code",
   "execution_count": 2,
   "metadata": {},
   "outputs": [],
   "source": [
    "os.environ[\"CUDA_VISIBLE_DEVICES\"] = \"\""
   ]
  },
  {
   "cell_type": "code",
   "execution_count": 3,
   "metadata": {},
   "outputs": [],
   "source": [
    "import numpy as np\n",
    "import torch\n",
    "from matplotlib import pyplot as plt"
   ]
  },
  {
   "cell_type": "code",
   "execution_count": 4,
   "metadata": {},
   "outputs": [],
   "source": [
    "from src.GPR_meta_mll import GPRegressionMetaLearned"
   ]
  },
  {
   "cell_type": "code",
   "execution_count": 5,
   "metadata": {},
   "outputs": [],
   "source": [
    "from experiments.data_sim import SinusoidDataset"
   ]
  },
  {
   "cell_type": "markdown",
   "metadata": {},
   "source": [
    "## Load data"
   ]
  },
  {
   "cell_type": "code",
   "execution_count": 6,
   "metadata": {},
   "outputs": [],
   "source": [
    "data_sim = SinusoidDataset(random_state=np.random.RandomState(29))\n",
    "meta_train_data = data_sim.generate_meta_train_data(n_tasks=20, n_samples=10)\n",
    "meta_test_data = data_sim.generate_meta_test_data(n_tasks=50, n_samples_context=10, n_samples_test=160)"
   ]
  },
  {
   "cell_type": "markdown",
   "metadata": {},
   "source": [
    "## Fit meta-GP model"
   ]
  },
  {
   "cell_type": "code",
   "execution_count": 7,
   "metadata": {},
   "outputs": [],
   "source": [
    "meta_gp = GPRegressionMetaLearned(meta_train_data=meta_train_data)"
   ]
  },
  {
   "cell_type": "code",
   "execution_count": 8,
   "metadata": {},
   "outputs": [
    {
     "name": "stderr",
     "output_type": "stream",
     "text": [
      "[2020-01-20 14:35:14,529 -INFO]  Iter 1/10000 - Loss: 10.245131 - Time 0.02 sec - Valid-LL: -1.534 - Valid-RMSE: 1.495 - Calib-Err 0.103\n",
      "[2020-01-20 14:35:22,600 -INFO]  Iter 500/10000 - Loss: 4.999656 - Time 8.06 sec - Valid-LL: -1.251 - Valid-RMSE: 0.795 - Calib-Err 0.096\n",
      "[2020-01-20 14:35:30,860 -INFO]  Iter 1000/10000 - Loss: 4.273040 - Time 8.16 sec - Valid-LL: -1.032 - Valid-RMSE: 0.649 - Calib-Err 0.101\n",
      "[2020-01-20 14:35:38,837 -INFO]  Iter 1500/10000 - Loss: 2.757514 - Time 7.89 sec - Valid-LL: -0.632 - Valid-RMSE: 0.318 - Calib-Err 0.160\n",
      "[2020-01-20 14:35:47,204 -INFO]  Iter 2000/10000 - Loss: 1.489146 - Time 8.23 sec - Valid-LL: -0.405 - Valid-RMSE: 0.300 - Calib-Err 0.141\n",
      "[2020-01-20 14:35:55,379 -INFO]  Iter 2500/10000 - Loss: 0.633468 - Time 8.13 sec - Valid-LL: -0.210 - Valid-RMSE: 0.276 - Calib-Err 0.123\n",
      "[2020-01-20 14:36:03,542 -INFO]  Iter 3000/10000 - Loss: -0.055455 - Time 8.06 sec - Valid-LL: -0.062 - Valid-RMSE: 0.269 - Calib-Err 0.105\n",
      "[2020-01-20 14:36:11,782 -INFO]  Iter 3500/10000 - Loss: -0.595711 - Time 8.13 sec - Valid-LL: 0.060 - Valid-RMSE: 0.261 - Calib-Err 0.095\n",
      "[2020-01-20 14:36:20,138 -INFO]  Iter 4000/10000 - Loss: -0.976680 - Time 8.25 sec - Valid-LL: 0.128 - Valid-RMSE: 0.250 - Calib-Err 0.092\n",
      "[2020-01-20 14:36:28,579 -INFO]  Iter 4500/10000 - Loss: -1.182114 - Time 8.31 sec - Valid-LL: 0.261 - Valid-RMSE: 0.237 - Calib-Err 0.094\n",
      "[2020-01-20 14:36:37,110 -INFO]  Iter 5000/10000 - Loss: -1.556990 - Time 8.40 sec - Valid-LL: 0.330 - Valid-RMSE: 0.231 - Calib-Err 0.099\n",
      "[2020-01-20 14:36:45,539 -INFO]  Iter 5500/10000 - Loss: -1.814357 - Time 8.35 sec - Valid-LL: 0.350 - Valid-RMSE: 0.219 - Calib-Err 0.102\n",
      "[2020-01-20 14:36:54,031 -INFO]  Iter 6000/10000 - Loss: -1.887914 - Time 8.41 sec - Valid-LL: 0.381 - Valid-RMSE: 0.214 - Calib-Err 0.102\n",
      "[2020-01-20 14:37:02,506 -INFO]  Iter 6500/10000 - Loss: -1.956936 - Time 8.39 sec - Valid-LL: 0.180 - Valid-RMSE: 0.244 - Calib-Err 0.120\n",
      "[2020-01-20 14:37:10,916 -INFO]  Iter 7000/10000 - Loss: -2.003064 - Time 8.32 sec - Valid-LL: 0.345 - Valid-RMSE: 0.224 - Calib-Err 0.105\n",
      "[2020-01-20 14:37:19,334 -INFO]  Iter 7500/10000 - Loss: -1.995617 - Time 8.37 sec - Valid-LL: 0.314 - Valid-RMSE: 0.220 - Calib-Err 0.112\n",
      "[2020-01-20 14:37:27,709 -INFO]  Iter 8000/10000 - Loss: -2.035700 - Time 8.29 sec - Valid-LL: 0.347 - Valid-RMSE: 0.215 - Calib-Err 0.105\n",
      "[2020-01-20 14:37:35,985 -INFO]  Iter 8500/10000 - Loss: -2.048347 - Time 8.17 sec - Valid-LL: 0.302 - Valid-RMSE: 0.216 - Calib-Err 0.113\n",
      "[2020-01-20 14:37:44,476 -INFO]  Iter 9000/10000 - Loss: -2.050738 - Time 8.37 sec - Valid-LL: 0.323 - Valid-RMSE: 0.209 - Calib-Err 0.104\n",
      "[2020-01-20 14:37:52,968 -INFO]  Iter 9500/10000 - Loss: -2.059161 - Time 8.41 sec - Valid-LL: 0.286 - Valid-RMSE: 0.219 - Calib-Err 0.111\n",
      "[2020-01-20 14:38:01,389 -INFO]  Iter 10000/10000 - Loss: -2.065331 - Time 8.35 sec - Valid-LL: 0.306 - Valid-RMSE: 0.224 - Calib-Err 0.108\n"
     ]
    },
    {
     "data": {
      "text/plain": [
       "-2.981786012649536"
      ]
     },
     "execution_count": 8,
     "metadata": {},
     "output_type": "execute_result"
    }
   ],
   "source": [
    "meta_gp.meta_fit(valid_tuples=meta_test_data)"
   ]
  },
  {
   "cell_type": "code",
   "execution_count": 9,
   "metadata": {},
   "outputs": [],
   "source": [
    "test_context_x, test_context_y, test_target_x, test_target_y = meta_test_data[0]"
   ]
  },
  {
   "cell_type": "code",
   "execution_count": 10,
   "metadata": {},
   "outputs": [
    {
     "data": {
      "image/png": "[encoded data removed]",
      "text/plain": [
       "<Figure size 432x288 with 1 Axes>"
      ]
     },
     "metadata": {
      "needs_background": "light"
     },
     "output_type": "display_data"
    }
   ],
   "source": [
    "x_plot = np.linspace(-5, 5, num=150)\n",
    "pred_mean, pred_std = meta_gp.predict(context_x=test_context_x, context_y=test_context_y, test_x=x_plot)\n",
    "ucb, lcb = meta_gp.confidence_intervals(test_context_x, test_context_y, x_plot, confidence=0.9)\n",
    "\n",
    "plt.scatter(test_context_x, test_context_y)\n",
    "plt.scatter(test_target_x, test_target_y)\n",
    "\n",
    "plt.plot(x_plot, pred_mean)\n",
    "plt.fill_between(x_plot, lcb, ucb, alpha=0.2)\n",
    "plt.title('GPR meta mll')\n",
    "plt.show()"
   ]
  },
  {
   "cell_type": "code",
   "execution_count": 11,
   "metadata": {},
   "outputs": [],
   "source": [
    "old_state = meta_gp.state_dict()"
   ]
  },
  {
   "cell_type": "code",
   "execution_count": 12,
   "metadata": {},
   "outputs": [
    {
     "data": {
      "text/plain": [
       "0.03559234459485616"
      ]
     },
     "execution_count": 12,
     "metadata": {},
     "output_type": "execute_result"
    }
   ],
   "source": [
    "pred_mean, pred_std = meta_gp.predict(context_x=test_context_x, context_y=test_context_y, test_x=test_target_x)\n",
    "\n",
    "((pred_mean - test_target_y.flatten())**2).mean()"
   ]
  },
  {
   "cell_type": "code",
   "execution_count": 13,
   "metadata": {},
   "outputs": [],
   "source": [
    "meta_gp = GPRegressionMetaLearned(meta_train_data=meta_train_data)"
   ]
  },
  {
   "cell_type": "code",
   "execution_count": 14,
   "metadata": {},
   "outputs": [
    {
     "data": {
      "text/plain": [
       "1.9030010374583113"
      ]
     },
     "execution_count": 14,
     "metadata": {},
     "output_type": "execute_result"
    }
   ],
   "source": [
    "pred_mean, pred_std = meta_gp.predict(context_x=test_context_x, context_y=test_context_y, test_x=test_target_x)\n",
    "\n",
    "((pred_mean - test_target_y.flatten())**2).mean()"
   ]
  },
  {
   "cell_type": "code",
   "execution_count": 15,
   "metadata": {},
   "outputs": [],
   "source": [
    "meta_gp.load_state_dict(old_state)"
   ]
  },
  {
   "cell_type": "code",
   "execution_count": 16,
   "metadata": {},
   "outputs": [
    {
     "data": {
      "text/plain": [
       "0.03559234459485616"
      ]
     },
     "execution_count": 16,
     "metadata": {},
     "output_type": "execute_result"
    }
   ],
   "source": [
    "pred_mean, pred_std = meta_gp.predict(context_x=test_context_x, context_y=test_context_y, test_x=test_target_x)\n",
    "\n",
    "((pred_mean - test_target_y.flatten())**2).mean()"
   ]
  },
  {
   "cell_type": "markdown",
   "metadata": {},
   "source": [
    "## Build NP model"
   ]
  },
  {
   "cell_type": "code",
   "execution_count": 17,
   "metadata": {},
   "outputs": [],
   "source": [
    "import time\n",
    "\n",
    "from torch.distributions.kl import kl_divergence\n",
    "from torch.utils.data import DataLoader\n",
    "\n",
    "from third_party.neural_processes.utils import context_target_split\n",
    "from third_party.neural_processes.training import NeuralProcessTrainer\n",
    "from third_party.neural_processes.datasets import SineData\n",
    "from third_party.neural_processes.neural_process import NeuralProcess\n",
    "\n",
    "from src.models import LearnedGPRegressionModel, NeuralNetwork, AffineTransformedDistribution\n",
    "from src.util import _handle_input_dimensionality, DummyLRScheduler\n",
    "from src.abstract import RegressionModelMetaLearned\n",
    "from config import device\n",
    "\n",
    "%load_ext autoreload\n",
    "%autoreload 2"
   ]
  },
  {
   "cell_type": "code",
   "execution_count": 18,
   "metadata": {},
   "outputs": [],
   "source": [
    "class NPRegressionMetaLearned(RegressionModelMetaLearned):\n",
    "\n",
    "    def __init__(self, meta_train_data, num_context, num_extra_target, lr_params=1e-3, r_dim=50, z_dim=50, h_dim=50, num_iter_fit=10000,\n",
    "                 task_batch_size=5, normalize_data=True, optimizer='Adam', lr_decay=1.0, random_seed=None):\n",
    "        \"\"\"\n",
    "        Neural Process regression model (https://arxiv.org/abs/1807.01622) that supports meta-learning.\n",
    "\n",
    "        Args:\n",
    "            meta_train_data: list of tuples of ndarrays[(train_x_1, train_t_1), ..., (train_x_n, train_t_n)]\n",
    "            num_context: number of context points for all training task or list of numbers for each task\n",
    "            num_extra_target: number of target points for all training task or list of numbers for each task\n",
    "            lr_params: (float) learning rate for prior parameters\n",
    "            r_dim: (float) dimensionality of the context representation\n",
    "            z_dim: (float) dimensionality of the latent variable\n",
    "            h_dim: (float) layer width of encoder and decoder\n",
    "            num_iter_fit: (int) number of gradient steps for fitting the parameters\n",
    "            task_batch_size: (int) batch size for meta training, i.e. number of tasks for computing grads\n",
    "            normalize_data: (bool) decides whether the input data should be normalized\n",
    "            optimizer: (str) type of optimizer to use - must be either 'Adam' or 'SGD'\n",
    "            lr_decay: (float) decay rate for the learning rate\n",
    "            random_seed: (int) seed for pytorch\n",
    "        \"\"\"\n",
    "        super().__init__(normalize_data, random_seed)\n",
    "\n",
    "        assert optimizer in ['Adam', 'SGD']\n",
    "        assert type(num_context) in [int, list, np.ndarray]\n",
    "        assert type(num_extra_target) in [int, list, np.ndarray]\n",
    "        if type(num_context) != int:\n",
    "            assert len(num_context) == len(meta_train_data)\n",
    "        if type(num_extra_target) != int:\n",
    "            assert len(num_extra_target) == len(meta_train_data)\n",
    "\n",
    "        self.num_context, self.num_extra_target = num_context, num_extra_target\n",
    "        self.lr_params, self.r_dim, self.z_dim, self.h_dim = lr_params, r_dim, z_dim, h_dim\n",
    "        self.num_iter_fit, self.task_batch_size, self.normalize_data = num_iter_fit, task_batch_size, normalize_data\n",
    "\n",
    "        # Check that data all has the same size\n",
    "        self._check_meta_data_shapes(meta_train_data)\n",
    "        self._compute_normalization_stats(meta_train_data)\n",
    "        \n",
    "        self.input_dim = meta_train_data[0][0].shape[-1]\n",
    "        self.output_dim = meta_train_data[0][1].shape[-1]\n",
    "        \n",
    "        self.model = NeuralProcess(x_dim=self.input_dim,\n",
    "                                  y_dim=self.output_dim,\n",
    "                                  r_dim=self.r_dim,\n",
    "                                  z_dim=self.z_dim,\n",
    "                                  h_dim=self.h_dim)\n",
    "\n",
    "        # Setup components that are shared across tasks\n",
    "        self.shared_parameters = self.model.parameters()\n",
    "\n",
    "        # Setup components that are different across tasks\n",
    "        self.task_dicts = []\n",
    "\n",
    "        for i, (train_x, train_y) in enumerate(meta_train_data): # TODO: consider parallelizing this loop\n",
    "            task_dict = {}\n",
    "            \n",
    "            if len(train_x) < 10:\n",
    "                print(len(train_x))\n",
    "\n",
    "            # a) prepare data\n",
    "            x_tensor, y_tensor = self._prepare_data_per_task(train_x, train_y, flatten_y=False)\n",
    "            task_dict['train_x'], task_dict['train_y'] = x_tensor, y_tensor\n",
    "            if type(self.num_context) != int:\n",
    "                task_dict['num_context'] = self.num_context[i]\n",
    "            if type(self.num_extra_target) != int:\n",
    "                task_dict['num_extra_target'] = self.num_extra_target[i]\n",
    "\n",
    "            self.task_dicts.append(task_dict)\n",
    "\n",
    "        # c) prepare inference\n",
    "        self._setup_optimizer(optimizer, lr_params, lr_decay)\n",
    "\n",
    "        self.fitted = False\n",
    "\n",
    "\n",
    "    def meta_fit(self, valid_tuples=None, verbose=True, log_period=500, n_iter=None):\n",
    "        \"\"\"\n",
    "        fits the parameters of the Neural Process model\n",
    "\n",
    "        Args:\n",
    "            valid_tuples: list of valid tuples, i.e. [(test_context_x_1, test_context_t_1, test_x_1, test_t_1), ...]\n",
    "            verbose: (boolean) whether to print training progress\n",
    "            log_period: (int) number of steps after which to print stats\n",
    "            n_iter: (int) number of gradient descent iterations\n",
    "        \"\"\"\n",
    "        self.model.train()\n",
    "\n",
    "        assert (valid_tuples is None) or (all([len(valid_tuple) == 4 for valid_tuple in valid_tuples]))\n",
    "\n",
    "        t = time.time()\n",
    "        cum_loss = 0.0\n",
    "\n",
    "        if n_iter is None:\n",
    "            n_iter = self.num_iter_fit\n",
    "\n",
    "        for itr in range(1, n_iter + 1):\n",
    "\n",
    "            loss = 0.0\n",
    "            self.optimizer.zero_grad()\n",
    "                \n",
    "            batch = self.rds_numpy.choice(self.task_dicts, size=self.task_batch_size)\n",
    "            for task in batch:\n",
    "                batch_x = torch.unsqueeze(task[\"train_x\"], dim=0)\n",
    "                batch_y = torch.unsqueeze(task[\"train_y\"], dim=0)\n",
    "\n",
    "                if \"num_context\" in task:\n",
    "                    num_context = task[\"num_context\"]\n",
    "                else:\n",
    "                    num_context = self.num_context\n",
    "                    \n",
    "                if \"num_extra_target\" in task:\n",
    "                    num_extra_target = task[\"num_extra_target\"]\n",
    "                else:\n",
    "                    num_extra_target = self.num_extra_target\n",
    "        \n",
    "                x_context, y_context, x_target, y_target = \\\n",
    "                    context_target_split(batch_x, batch_y,\n",
    "                                         num_context, num_extra_target)\n",
    "                p_y_pred, q_target, q_context = \\\n",
    "                    self.model(x_context, y_context, x_target, y_target)\n",
    "                loss += self._loss(p_y_pred, y_target, q_target, q_context)\n",
    "\n",
    "            loss.backward()\n",
    "            self.optimizer.step()\n",
    "            self.lr_scheduler.step()\n",
    "\n",
    "            cum_loss += loss\n",
    "\n",
    "            # print training stats stats\n",
    "            if itr == 1 or itr % log_period == 0:\n",
    "                duration = time.time() - t\n",
    "                avg_loss = cum_loss / (log_period if itr > 1 else 1.0)\n",
    "                cum_loss = 0.0\n",
    "                t = time.time()\n",
    "\n",
    "                message = 'Iter %d/%d - Loss: %.6f - Time %.2f sec' % (itr, self.num_iter_fit, avg_loss.item(), duration)\n",
    "\n",
    "                # if validation data is provided  -> compute the valid log-likelihood\n",
    "                if valid_tuples is not None:\n",
    "                    self.model.eval()\n",
    "                    valid_ll, valid_rmse, calibr_err = self.eval_datasets(valid_tuples, flatten_y=False)\n",
    "                    self.model.train()\n",
    "                    message += ' - Valid-LL: %.3f - Valid-RMSE: %.3f - Calib-Err %.3f' % (valid_ll, valid_rmse, calibr_err)\n",
    "\n",
    "                if verbose:\n",
    "                    self.logger.info(message)\n",
    "\n",
    "\n",
    "        self.fitted = True\n",
    "\n",
    "        self.model.eval()\n",
    "        return loss.item()\n",
    "\n",
    "    \n",
    "    def predict(self, context_x, context_y, test_x, return_density=False):\n",
    "        \"\"\"\n",
    "        computes the predictive distribution of the targets p(t|test_x, test_context_x, context_y)\n",
    "\n",
    "        Args:\n",
    "            context_x: (ndarray) context input data for which to compute the posterior\n",
    "            context_y: (ndarray) context targets for which to compute the posterior\n",
    "            test_x: (ndarray) query input data of shape (n_samples, ndim_x)\n",
    "            return_density: (bool) whether to return result as mean and std ndarray or as MultivariateNormal pytorch object\n",
    "\n",
    "        Returns:\n",
    "            (pred_mean, pred_std) predicted mean and standard deviation corresponding to p(t|test_x, test_context_x, context_y)\n",
    "        \"\"\"\n",
    "\n",
    "        train_old = self.model.training\n",
    "        self.model.eval()\n",
    "        \n",
    "        context_x, context_y = _handle_input_dimensionality(context_x, context_y)\n",
    "        test_x = _handle_input_dimensionality(test_x)\n",
    "        assert test_x.shape[1] == context_x.shape[1]\n",
    "\n",
    "        # normalize data and convert to tensor\n",
    "        context_x, context_y = self._prepare_data_per_task(context_x, context_y, flatten_y=False)\n",
    "\n",
    "        test_x = self._normalize_data(X=test_x, Y=None)\n",
    "        test_x = torch.from_numpy(test_x).float().to(device)\n",
    "        \n",
    "        context_x = torch.unsqueeze(context_x, 0)\n",
    "        context_y = torch.unsqueeze(context_y, 0)\n",
    "        test_x = torch.unsqueeze(test_x, 0)\n",
    "\n",
    "        with torch.no_grad():\n",
    "            # compute posterior given the context data\n",
    "            pred_dist = self.model(context_x, context_y, test_x)\n",
    "            pred_dist_transformed = AffineTransformedDistribution(pred_dist, normalization_mean=self.y_mean,\n",
    "                                                                  normalization_std=self.y_std)            \n",
    "\n",
    "        if train_old:\n",
    "            self.model.train()\n",
    "            \n",
    "        if return_density:\n",
    "            return pred_dist_transformed\n",
    "        else:\n",
    "            pred_mean = pred_dist_transformed.mean\n",
    "            pred_std = pred_dist_transformed.stddev\n",
    "            return pred_mean.cpu().numpy(), pred_std.cpu().numpy()\n",
    "\n",
    "        \n",
    "    def state_dict(self):\n",
    "        state_dict = {\n",
    "            'optimizer': self.optimizer.state_dict(),\n",
    "            'model': self.model.state_dict()\n",
    "        }\n",
    "        for key, tensor in self.model.state_dict().items():\n",
    "            assert torch.all(state_dict['model'][key] == tensor).item()\n",
    "        return state_dict\n",
    "\n",
    "    \n",
    "    def load_state_dict(self, state_dict):\n",
    "        self.model.load_state_dict(state_dict['model'])\n",
    "        self.optimizer.load_state_dict(state_dict['optimizer'])\n",
    "        \n",
    "        \n",
    "    def _loss(self, p_y_pred, y_target, q_target, q_context):\n",
    "        \"\"\"\n",
    "        Computes Neural Process loss.\n",
    "\n",
    "        Parameters\n",
    "        ----------\n",
    "        p_y_pred : one of torch.distributions.Distribution\n",
    "            Distribution over y output by Neural Process.\n",
    "\n",
    "        y_target : torch.Tensor\n",
    "            Shape (batch_size, num_target, y_dim)\n",
    "\n",
    "        q_target : one of torch.distributions.Distribution\n",
    "            Latent distribution for target points.\n",
    "\n",
    "        q_context : one of torch.distributions.Distribution\n",
    "            Latent distribution for context points.\n",
    "        \"\"\"\n",
    "        # Log likelihood has shape (batch_size, num_target, y_dim). Take mean\n",
    "        # over batch and sum over number of targets and dimensions of y\n",
    "        log_likelihood = p_y_pred.log_prob(y_target).mean(dim=0).sum()\n",
    "        # KL has shape (batch_size, r_dim). Take mean over batch and sum over\n",
    "        # r_dim (since r_dim is dimension of normal distribution)\n",
    "        kl = kl_divergence(q_target, q_context).mean(dim=0).sum()\n",
    "        return -log_likelihood + kl\n",
    "    \n",
    "\n",
    "    def _setup_optimizer(self, optimizer, lr, lr_decay):\n",
    "        if optimizer == 'Adam':\n",
    "            self.optimizer = torch.optim.AdamW(self.shared_parameters, lr=lr)\n",
    "        elif optimizer == 'SGD':\n",
    "            self.optimizer = torch.optim.SGD(self.shared_parameters, lr=lr)\n",
    "        else:\n",
    "            raise NotImplementedError('Optimizer must be Adam or SGD')\n",
    "\n",
    "        if lr_decay < 1.0:\n",
    "            self.lr_scheduler = torch.optim.lr_scheduler.StepLR(self.optimizer, 1000, gamma=lr_decay)\n",
    "        else:\n",
    "            self.lr_scheduler = DummyLRScheduler()\n",
    "\n",
    "            \n",
    "    def _vectorize_pred_dist(self, pred_dist):\n",
    "        return torch.distributions.Normal(pred_dist.mean, pred_dist.stddev)"
   ]
  },
  {
   "cell_type": "code",
   "execution_count": 19,
   "metadata": {},
   "outputs": [],
   "source": [
    "num_context_train = np.random.randint(low=1, high=5, size=len(meta_train_data))\n",
    "num_target_train = np.random.randint(low=1, high=5, size=len(meta_train_data))"
   ]
  },
  {
   "cell_type": "code",
   "execution_count": 20,
   "metadata": {},
   "outputs": [
    {
     "name": "stderr",
     "output_type": "stream",
     "text": [
      "[2020-01-20 14:38:02,492 -INFO]  Iter 1/10000 - Loss: 33.913647 - Time 0.02 sec - Valid-LL: -2.041 - Valid-RMSE: 1.611 - Calib-Err 0.101\n",
      "[2020-01-20 14:38:10,497 -INFO]  Iter 500/10000 - Loss: 22.433388 - Time 8.00 sec - Valid-LL: -1.288 - Valid-RMSE: 0.843 - Calib-Err 0.091\n",
      "[2020-01-20 14:38:18,759 -INFO]  Iter 1000/10000 - Loss: 17.234989 - Time 8.12 sec - Valid-LL: -1.131 - Valid-RMSE: 0.756 - Calib-Err 0.082\n",
      "[2020-01-20 14:38:26,883 -INFO]  Iter 1500/10000 - Loss: 14.253287 - Time 8.04 sec - Valid-LL: -1.017 - Valid-RMSE: 0.669 - Calib-Err 0.107\n",
      "[2020-01-20 14:38:35,020 -INFO]  Iter 2000/10000 - Loss: 6.398564 - Time 8.04 sec - Valid-LL: -0.596 - Valid-RMSE: 0.432 - Calib-Err 0.120\n",
      "[2020-01-20 14:38:43,087 -INFO]  Iter 2500/10000 - Loss: -0.291143 - Time 7.99 sec - Valid-LL: -0.446 - Valid-RMSE: 0.369 - Calib-Err 0.122\n",
      "[2020-01-20 14:38:51,086 -INFO]  Iter 3000/10000 - Loss: -3.299945 - Time 7.86 sec - Valid-LL: -0.508 - Valid-RMSE: 0.370 - Calib-Err 0.151\n",
      "[2020-01-20 14:38:59,089 -INFO]  Iter 3500/10000 - Loss: -6.052587 - Time 7.91 sec - Valid-LL: -0.453 - Valid-RMSE: 0.367 - Calib-Err 0.133\n",
      "[2020-01-20 14:39:07,401 -INFO]  Iter 4000/10000 - Loss: -7.251691 - Time 8.20 sec - Valid-LL: -0.580 - Valid-RMSE: 0.349 - Calib-Err 0.160\n",
      "[2020-01-20 14:39:15,830 -INFO]  Iter 4500/10000 - Loss: -8.260584 - Time 8.32 sec - Valid-LL: -0.494 - Valid-RMSE: 0.347 - Calib-Err 0.146\n",
      "[2020-01-20 14:39:24,186 -INFO]  Iter 5000/10000 - Loss: -9.398243 - Time 8.24 sec - Valid-LL: -0.440 - Valid-RMSE: 0.329 - Calib-Err 0.137\n",
      "[2020-01-20 14:39:32,231 -INFO]  Iter 5500/10000 - Loss: -8.870036 - Time 7.94 sec - Valid-LL: -0.552 - Valid-RMSE: 0.343 - Calib-Err 0.151\n",
      "[2020-01-20 14:39:40,289 -INFO]  Iter 6000/10000 - Loss: -10.178483 - Time 7.94 sec - Valid-LL: -0.454 - Valid-RMSE: 0.328 - Calib-Err 0.122\n",
      "[2020-01-20 14:39:48,378 -INFO]  Iter 6500/10000 - Loss: -11.267823 - Time 7.97 sec - Valid-LL: -0.728 - Valid-RMSE: 0.350 - Calib-Err 0.152\n",
      "[2020-01-20 14:39:56,456 -INFO]  Iter 7000/10000 - Loss: -10.704340 - Time 7.96 sec - Valid-LL: -0.518 - Valid-RMSE: 0.337 - Calib-Err 0.126\n",
      "[2020-01-20 14:40:04,795 -INFO]  Iter 7500/10000 - Loss: -11.301416 - Time 8.20 sec - Valid-LL: -0.498 - Valid-RMSE: 0.316 - Calib-Err 0.133\n",
      "[2020-01-20 14:40:13,249 -INFO]  Iter 8000/10000 - Loss: -12.397087 - Time 8.33 sec - Valid-LL: -0.492 - Valid-RMSE: 0.321 - Calib-Err 0.136\n",
      "[2020-01-20 14:40:21,581 -INFO]  Iter 8500/10000 - Loss: -12.550951 - Time 8.19 sec - Valid-LL: -0.559 - Valid-RMSE: 0.335 - Calib-Err 0.128\n",
      "[2020-01-20 14:40:29,899 -INFO]  Iter 9000/10000 - Loss: -13.040127 - Time 8.19 sec - Valid-LL: -0.435 - Valid-RMSE: 0.319 - Calib-Err 0.139\n",
      "[2020-01-20 14:40:38,234 -INFO]  Iter 9500/10000 - Loss: -13.998909 - Time 8.20 sec - Valid-LL: -0.566 - Valid-RMSE: 0.329 - Calib-Err 0.136\n",
      "[2020-01-20 14:40:46,712 -INFO]  Iter 10000/10000 - Loss: -13.432510 - Time 8.33 sec - Valid-LL: -0.612 - Valid-RMSE: 0.337 - Calib-Err 0.135\n"
     ]
    },
    {
     "data": {
      "text/plain": [
       "-21.670591354370117"
      ]
     },
     "execution_count": 20,
     "metadata": {},
     "output_type": "execute_result"
    }
   ],
   "source": [
    "meta_np = NPRegressionMetaLearned(meta_train_data=meta_train_data, num_context=num_context_train, num_extra_target=num_target_train)\n",
    "meta_np.meta_fit(valid_tuples=meta_test_data)"
   ]
  },
  {
   "cell_type": "code",
   "execution_count": 21,
   "metadata": {},
   "outputs": [],
   "source": [
    "test_context_x, test_context_y, test_target_x, test_target_y = meta_test_data[0]"
   ]
  },
  {
   "cell_type": "code",
   "execution_count": 22,
   "metadata": {},
   "outputs": [
    {
     "data": {
      "image/png": "[encoded data removed]",
      "text/plain": [
       "<Figure size 432x288 with 1 Axes>"
      ]
     },
     "metadata": {
      "needs_background": "light"
     },
     "output_type": "display_data"
    }
   ],
   "source": [
    "x_plot = np.linspace(-5, 5, num=150)\n",
    "x_plot = x_plot[:, np.newaxis]\n",
    "pred_mean, pred_std = meta_np.predict(context_x=test_context_x, context_y=test_context_y, test_x=x_plot)\n",
    "ucb, lcb = meta_np.confidence_intervals(test_context_x, test_context_y, x_plot, confidence=0.9)\n",
    "\n",
    "plt.scatter(test_context_x, test_context_y)\n",
    "plt.scatter(test_target_x, test_target_y)\n",
    "\n",
    "plt.plot(x_plot.flatten(), pred_mean.flatten())\n",
    "plt.fill_between(x_plot.flatten(), lcb.flatten(), ucb.flatten(), alpha=0.2)\n",
    "plt.title('NPR meta mll')\n",
    "plt.show()"
   ]
  },
  {
   "cell_type": "code",
   "execution_count": 23,
   "metadata": {},
   "outputs": [],
   "source": [
    "old_state = meta_np.state_dict()"
   ]
  },
  {
   "cell_type": "code",
   "execution_count": 24,
   "metadata": {},
   "outputs": [
    {
     "data": {
      "text/plain": [
       "0.17884389758082359"
      ]
     },
     "execution_count": 24,
     "metadata": {},
     "output_type": "execute_result"
    }
   ],
   "source": [
    "pred_mean, pred_std = meta_np.predict(context_x=test_context_x, context_y=test_context_y, test_x=test_target_x)\n",
    "\n",
    "((pred_mean.flatten() - test_target_y.flatten())**2).mean()"
   ]
  },
  {
   "cell_type": "code",
   "execution_count": 25,
   "metadata": {},
   "outputs": [],
   "source": [
    "meta_np = NPRegressionMetaLearned(meta_train_data=meta_train_data, num_context=5, num_extra_target=5)\n",
    "meta_np.model.eval();"
   ]
  },
  {
   "cell_type": "code",
   "execution_count": 26,
   "metadata": {},
   "outputs": [
    {
     "data": {
      "text/plain": [
       "2.063441127899359"
      ]
     },
     "execution_count": 26,
     "metadata": {},
     "output_type": "execute_result"
    }
   ],
   "source": [
    "pred_mean, pred_std = meta_np.predict(context_x=test_context_x, context_y=test_context_y, test_x=test_target_x)\n",
    "\n",
    "((pred_mean.flatten() - test_target_y.flatten())**2).mean()"
   ]
  },
  {
   "cell_type": "code",
   "execution_count": 27,
   "metadata": {},
   "outputs": [],
   "source": [
    "meta_np.load_state_dict(old_state)"
   ]
  },
  {
   "cell_type": "code",
   "execution_count": 28,
   "metadata": {},
   "outputs": [
    {
     "data": {
      "text/plain": [
       "0.2342310238134197"
      ]
     },
     "execution_count": 28,
     "metadata": {},
     "output_type": "execute_result"
    }
   ],
   "source": [
    "pred_mean, pred_std = meta_np.predict(context_x=test_context_x, context_y=test_context_y, test_x=test_target_x)\n",
    "\n",
    "((pred_mean.flatten() - test_target_y.flatten())**2).mean()"
   ]
  },
  {
   "cell_type": "code",
   "execution_count": null,
   "metadata": {},
   "outputs": [],
   "source": []
  },
  {
   "cell_type": "code",
   "execution_count": null,
   "metadata": {},
   "outputs": [],
   "source": []
  }
 ],
 "metadata": {
  "kernelspec": {
   "display_name": "Python 3",
   "language": "python",
   "name": "python3"
  },
  "language_info": {
   "codemirror_mode": {
    "name": "ipython",
    "version": 3
   },
   "file_extension": ".py",
   "mimetype": "text/x-python",
   "name": "python",
   "nbconvert_exporter": "python",
   "pygments_lexer": "ipython3",
   "version": "3.6.7"
  }
 },
 "nbformat": 4,
 "nbformat_minor": 2
}
