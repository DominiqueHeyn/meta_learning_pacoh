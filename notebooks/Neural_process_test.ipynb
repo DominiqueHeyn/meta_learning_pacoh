{
 "cells": [
  {
   "cell_type": "code",
   "execution_count": 1,
   "metadata": {},
   "outputs": [],
   "source": [
    "import os\n",
    "import sys\n",
    "\n",
    "BASE_DIR = os.path.dirname(os.path.abspath(\"\"))\n",
    "\n",
    "sys.path.append(BASE_DIR)"
   ]
  },
  {
   "cell_type": "code",
   "execution_count": 2,
   "metadata": {},
   "outputs": [],
   "source": [
    "os.environ[\"CUDA_VISIBLE_DEVICES\"] = \"\""
   ]
  },
  {
   "cell_type": "code",
   "execution_count": 32,
   "metadata": {},
   "outputs": [],
   "source": [
    "import numpy as np\n",
    "import torch\n",
    "from matplotlib import pyplot as plt"
   ]
  },
  {
   "cell_type": "code",
   "execution_count": 5,
   "metadata": {},
   "outputs": [],
   "source": [
    "from src.GPR_meta_mll import GPRegressionMetaLearned"
   ]
  },
  {
   "cell_type": "code",
   "execution_count": 6,
   "metadata": {},
   "outputs": [],
   "source": [
    "from experiments.data_sim import SinusoidDataset"
   ]
  },
  {
   "cell_type": "markdown",
   "metadata": {},
   "source": [
    "## Load data"
   ]
  },
  {
   "cell_type": "code",
   "execution_count": 7,
   "metadata": {},
   "outputs": [],
   "source": [
    "data_sim = SinusoidDataset(random_state=np.random.RandomState(29))\n",
    "meta_train_data = data_sim.generate_meta_train_data(n_tasks=20, n_samples=10)\n",
    "meta_test_data = data_sim.generate_meta_test_data(n_tasks=50, n_samples_context=10, n_samples_test=160)"
   ]
  },
  {
   "cell_type": "markdown",
   "metadata": {},
   "source": [
    "## Fit meta-GP model"
   ]
  },
  {
   "cell_type": "code",
   "execution_count": 8,
   "metadata": {},
   "outputs": [],
   "source": [
    "meta_gp = GPRegressionMetaLearned(meta_train_data=meta_train_data)"
   ]
  },
  {
   "cell_type": "code",
   "execution_count": 9,
   "metadata": {},
   "outputs": [
    {
     "name": "stderr",
     "output_type": "stream",
     "text": [
      "[2020-01-08 15:38:20,475 -INFO]  Iter 1/10000 - Loss: 0.810497 - Time 0.09 sec - Valid-LL: -1.500 - Valid-RMSE: 1.392 - Calib-Err 0.105\n",
      "[2020-01-08 15:38:29,809 -INFO]  Iter 500/10000 - Loss: 0.497923 - Time 9.31 sec - Valid-LL: -1.248 - Valid-RMSE: 0.798 - Calib-Err 0.095\n",
      "[2020-01-08 15:38:39,589 -INFO]  Iter 1000/10000 - Loss: 0.433851 - Time 9.63 sec - Valid-LL: -1.087 - Valid-RMSE: 0.747 - Calib-Err 0.087\n",
      "[2020-01-08 15:38:49,208 -INFO]  Iter 1500/10000 - Loss: 0.318896 - Time 9.52 sec - Valid-LL: -0.660 - Valid-RMSE: 0.332 - Calib-Err 0.159\n",
      "[2020-01-08 15:38:58,996 -INFO]  Iter 2000/10000 - Loss: 0.160186 - Time 9.70 sec - Valid-LL: -0.396 - Valid-RMSE: 0.287 - Calib-Err 0.149\n",
      "[2020-01-08 15:39:08,499 -INFO]  Iter 2500/10000 - Loss: 0.063931 - Time 9.41 sec - Valid-LL: -0.213 - Valid-RMSE: 0.277 - Calib-Err 0.122\n",
      "[2020-01-08 15:39:17,883 -INFO]  Iter 3000/10000 - Loss: -0.004616 - Time 9.34 sec - Valid-LL: -0.053 - Valid-RMSE: 0.261 - Calib-Err 0.106\n",
      "[2020-01-08 15:39:27,321 -INFO]  Iter 3500/10000 - Loss: -0.060243 - Time 9.31 sec - Valid-LL: 0.070 - Valid-RMSE: 0.249 - Calib-Err 0.096\n",
      "[2020-01-08 15:39:37,267 -INFO]  Iter 4000/10000 - Loss: -0.101334 - Time 9.76 sec - Valid-LL: 0.196 - Valid-RMSE: 0.240 - Calib-Err 0.097\n",
      "[2020-01-08 15:39:47,037 -INFO]  Iter 4500/10000 - Loss: -0.138837 - Time 9.64 sec - Valid-LL: 0.343 - Valid-RMSE: 0.221 - Calib-Err 0.098\n",
      "[2020-01-08 15:39:56,643 -INFO]  Iter 5000/10000 - Loss: -0.165980 - Time 9.53 sec - Valid-LL: 0.378 - Valid-RMSE: 0.217 - Calib-Err 0.099\n",
      "[2020-01-08 15:40:06,196 -INFO]  Iter 5500/10000 - Loss: -0.185595 - Time 9.42 sec - Valid-LL: 0.352 - Valid-RMSE: 0.219 - Calib-Err 0.110\n",
      "[2020-01-08 15:40:15,956 -INFO]  Iter 6000/10000 - Loss: -0.194178 - Time 9.69 sec - Valid-LL: 0.359 - Valid-RMSE: 0.215 - Calib-Err 0.103\n",
      "[2020-01-08 15:40:25,968 -INFO]  Iter 6500/10000 - Loss: -0.198843 - Time 9.85 sec - Valid-LL: 0.249 - Valid-RMSE: 0.228 - Calib-Err 0.111\n",
      "[2020-01-08 15:40:35,798 -INFO]  Iter 7000/10000 - Loss: -0.205292 - Time 9.79 sec - Valid-LL: 0.286 - Valid-RMSE: 0.223 - Calib-Err 0.109\n",
      "[2020-01-08 15:40:45,526 -INFO]  Iter 7500/10000 - Loss: -0.206411 - Time 9.55 sec - Valid-LL: 0.274 - Valid-RMSE: 0.218 - Calib-Err 0.110\n",
      "[2020-01-08 15:40:55,654 -INFO]  Iter 8000/10000 - Loss: -0.206440 - Time 10.01 sec - Valid-LL: 0.311 - Valid-RMSE: 0.212 - Calib-Err 0.108\n",
      "[2020-01-08 15:41:05,602 -INFO]  Iter 8500/10000 - Loss: -0.202090 - Time 9.96 sec - Valid-LL: 0.265 - Valid-RMSE: 0.221 - Calib-Err 0.112\n",
      "[2020-01-08 15:41:15,062 -INFO]  Iter 9000/10000 - Loss: -0.208658 - Time 9.39 sec - Valid-LL: 0.265 - Valid-RMSE: 0.225 - Calib-Err 0.109\n",
      "[2020-01-08 15:41:24,483 -INFO]  Iter 9500/10000 - Loss: -0.203895 - Time 9.39 sec - Valid-LL: 0.199 - Valid-RMSE: 0.229 - Calib-Err 0.118\n",
      "[2020-01-08 15:41:34,667 -INFO]  Iter 10000/10000 - Loss: -0.210944 - Time 9.94 sec - Valid-LL: 0.292 - Valid-RMSE: 0.215 - Calib-Err 0.109\n"
     ]
    },
    {
     "data": {
      "text/plain": [
       "-0.2951754629611969"
      ]
     },
     "execution_count": 9,
     "metadata": {},
     "output_type": "execute_result"
    }
   ],
   "source": [
    "meta_gp.meta_fit(valid_tuples=meta_test_data)"
   ]
  },
  {
   "cell_type": "code",
   "execution_count": 13,
   "metadata": {},
   "outputs": [],
   "source": [
    "test_context_x, test_context_y, test_target_x, test_target_y = meta_test_data[0]"
   ]
  },
  {
   "cell_type": "code",
   "execution_count": 34,
   "metadata": {},
   "outputs": [
    {
     "data": {
      "image/png": "[encoded data removed]",
      "text/plain": [
       "<Figure size 432x288 with 1 Axes>"
      ]
     },
     "metadata": {
      "needs_background": "light"
     },
     "output_type": "display_data"
    }
   ],
   "source": [
    "x_plot = np.linspace(-5, 5, num=150)\n",
    "pred_mean, pred_std = meta_gp.predict(context_x=test_context_x, context_y=test_context_y, test_x=x_plot)\n",
    "ucb, lcb = meta_gp.confidence_intervals(test_context_x, test_context_y, x_plot, confidence=0.9)\n",
    "\n",
    "plt.scatter(test_context_x, test_context_y)\n",
    "plt.scatter(test_target_x, test_target_y)\n",
    "\n",
    "plt.plot(x_plot, pred_mean)\n",
    "plt.fill_between(x_plot, lcb, ucb, alpha=0.2)\n",
    "plt.title('GPR meta mll')\n",
    "plt.show()"
   ]
  },
  {
   "cell_type": "code",
   "execution_count": 36,
   "metadata": {},
   "outputs": [],
   "source": [
    "old_state = meta_gp.state_dict()"
   ]
  },
  {
   "cell_type": "code",
   "execution_count": 35,
   "metadata": {},
   "outputs": [
    {
     "data": {
      "text/plain": [
       "0.026962659984919903"
      ]
     },
     "execution_count": 35,
     "metadata": {},
     "output_type": "execute_result"
    }
   ],
   "source": [
    "pred_mean, pred_std = meta_gp.predict(context_x=test_context_x, context_y=test_context_y, test_x=test_target_x)\n",
    "\n",
    "((pred_mean - test_target_y.flatten())**2).mean()"
   ]
  },
  {
   "cell_type": "code",
   "execution_count": 38,
   "metadata": {},
   "outputs": [],
   "source": [
    "meta_gp = GPRegressionMetaLearned(meta_train_data=meta_train_data)"
   ]
  },
  {
   "cell_type": "code",
   "execution_count": 39,
   "metadata": {},
   "outputs": [
    {
     "data": {
      "text/plain": [
       "0.9778156715044896"
      ]
     },
     "execution_count": 39,
     "metadata": {},
     "output_type": "execute_result"
    }
   ],
   "source": [
    "pred_mean, pred_std = meta_gp.predict(context_x=test_context_x, context_y=test_context_y, test_x=test_target_x)\n",
    "\n",
    "((pred_mean - test_target_y.flatten())**2).mean()"
   ]
  },
  {
   "cell_type": "code",
   "execution_count": 40,
   "metadata": {},
   "outputs": [],
   "source": [
    "meta_gp.load_state_dict(old_state)"
   ]
  },
  {
   "cell_type": "code",
   "execution_count": 41,
   "metadata": {},
   "outputs": [
    {
     "data": {
      "text/plain": [
       "0.026962659984919903"
      ]
     },
     "execution_count": 41,
     "metadata": {},
     "output_type": "execute_result"
    }
   ],
   "source": [
    "pred_mean, pred_std = meta_gp.predict(context_x=test_context_x, context_y=test_context_y, test_x=test_target_x)\n",
    "\n",
    "((pred_mean - test_target_y.flatten())**2).mean()"
   ]
  }
 ],
 "metadata": {
  "kernelspec": {
   "display_name": "Python 3",
   "language": "python",
   "name": "python3"
  },
  "language_info": {
   "codemirror_mode": {
    "name": "ipython",
    "version": 3
   },
   "file_extension": ".py",
   "mimetype": "text/x-python",
   "name": "python",
   "nbconvert_exporter": "python",
   "pygments_lexer": "ipython3",
   "version": "3.6.7"
  }
 },
 "nbformat": 4,
 "nbformat_minor": 2
}
