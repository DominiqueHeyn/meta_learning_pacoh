{
 "cells": [
  {
   "cell_type": "code",
   "execution_count": 1,
   "metadata": {},
   "outputs": [],
   "source": [
    "import os\n",
    "import sys\n",
    "\n",
    "BASE_DIR = os.path.dirname(os.path.abspath(\"\"))\n",
    "\n",
    "sys.path.append(BASE_DIR)"
   ]
  },
  {
   "cell_type": "code",
   "execution_count": 2,
   "metadata": {},
   "outputs": [],
   "source": [
    "os.environ[\"CUDA_VISIBLE_DEVICES\"] = \"\""
   ]
  },
  {
   "cell_type": "code",
   "execution_count": 3,
   "metadata": {},
   "outputs": [],
   "source": [
    "import numpy as np\n",
    "import torch\n",
    "from matplotlib import pyplot as plt"
   ]
  },
  {
   "cell_type": "code",
   "execution_count": 4,
   "metadata": {},
   "outputs": [],
   "source": [
    "from src.GPR_meta_mll import GPRegressionMetaLearned"
   ]
  },
  {
   "cell_type": "code",
   "execution_count": 5,
   "metadata": {},
   "outputs": [],
   "source": [
    "from experiments.data_sim import SinusoidDataset"
   ]
  },
  {
   "cell_type": "markdown",
   "metadata": {},
   "source": [
    "## Load data"
   ]
  },
  {
   "cell_type": "code",
   "execution_count": 6,
   "metadata": {},
   "outputs": [],
   "source": [
    "data_sim = SinusoidDataset(random_state=np.random.RandomState(29))\n",
    "meta_train_data = data_sim.generate_meta_train_data(n_tasks=20, n_samples=10)\n",
    "meta_test_data = data_sim.generate_meta_test_data(n_tasks=50, n_samples_context=10, n_samples_test=160)"
   ]
  },
  {
   "cell_type": "markdown",
   "metadata": {},
   "source": [
    "## Fit meta-GP model"
   ]
  },
  {
   "cell_type": "code",
   "execution_count": 7,
   "metadata": {},
   "outputs": [],
   "source": [
    "meta_gp = GPRegressionMetaLearned(meta_train_data=meta_train_data)"
   ]
  },
  {
   "cell_type": "code",
   "execution_count": 8,
   "metadata": {},
   "outputs": [
    {
     "name": "stderr",
     "output_type": "stream",
     "text": [
      "[2020-01-14 11:15:05,018 -INFO]  Iter 1/10000 - Loss: 0.583217 - Time 0.03 sec - Valid-LL: -1.540 - Valid-RMSE: 1.363 - Calib-Err 0.105\n",
      "[2020-01-14 11:15:15,214 -INFO]  Iter 500/10000 - Loss: 0.494505 - Time 10.16 sec - Valid-LL: -1.230 - Valid-RMSE: 0.776 - Calib-Err 0.097\n",
      "[2020-01-14 11:15:25,605 -INFO]  Iter 1000/10000 - Loss: 0.396790 - Time 10.24 sec - Valid-LL: -0.917 - Valid-RMSE: 0.489 - Calib-Err 0.134\n",
      "[2020-01-14 11:15:35,992 -INFO]  Iter 1500/10000 - Loss: 0.251605 - Time 10.26 sec - Valid-LL: -0.609 - Valid-RMSE: 0.302 - Calib-Err 0.165\n",
      "[2020-01-14 11:15:46,565 -INFO]  Iter 2000/10000 - Loss: 0.142608 - Time 10.40 sec - Valid-LL: -0.396 - Valid-RMSE: 0.293 - Calib-Err 0.142\n",
      "[2020-01-14 11:15:57,219 -INFO]  Iter 2500/10000 - Loss: 0.058244 - Time 10.52 sec - Valid-LL: -0.204 - Valid-RMSE: 0.277 - Calib-Err 0.124\n",
      "[2020-01-14 11:16:07,988 -INFO]  Iter 3000/10000 - Loss: -0.007131 - Time 10.70 sec - Valid-LL: -0.066 - Valid-RMSE: 0.279 - Calib-Err 0.102\n",
      "[2020-01-14 11:16:18,735 -INFO]  Iter 3500/10000 - Loss: -0.059788 - Time 10.63 sec - Valid-LL: 0.007 - Valid-RMSE: 0.274 - Calib-Err 0.091\n",
      "[2020-01-14 11:16:29,232 -INFO]  Iter 4000/10000 - Loss: -0.094655 - Time 10.35 sec - Valid-LL: 0.114 - Valid-RMSE: 0.264 - Calib-Err 0.090\n",
      "[2020-01-14 11:16:39,821 -INFO]  Iter 4500/10000 - Loss: -0.122402 - Time 10.47 sec - Valid-LL: 0.157 - Valid-RMSE: 0.251 - Calib-Err 0.092\n",
      "[2020-01-14 11:16:49,877 -INFO]  Iter 5000/10000 - Loss: -0.148831 - Time 9.90 sec - Valid-LL: 0.334 - Valid-RMSE: 0.235 - Calib-Err 0.099\n",
      "[2020-01-14 11:17:00,019 -INFO]  Iter 5500/10000 - Loss: -0.171962 - Time 10.05 sec - Valid-LL: 0.381 - Valid-RMSE: 0.215 - Calib-Err 0.105\n",
      "[2020-01-14 11:17:10,116 -INFO]  Iter 6000/10000 - Loss: -0.186369 - Time 9.97 sec - Valid-LL: 0.315 - Valid-RMSE: 0.226 - Calib-Err 0.118\n",
      "[2020-01-14 11:17:20,534 -INFO]  Iter 6500/10000 - Loss: -0.194985 - Time 10.32 sec - Valid-LL: 0.352 - Valid-RMSE: 0.228 - Calib-Err 0.108\n",
      "[2020-01-14 11:17:31,566 -INFO]  Iter 7000/10000 - Loss: -0.195946 - Time 10.97 sec - Valid-LL: 0.316 - Valid-RMSE: 0.220 - Calib-Err 0.114\n",
      "[2020-01-14 11:17:42,394 -INFO]  Iter 7500/10000 - Loss: -0.199764 - Time 10.60 sec - Valid-LL: 0.335 - Valid-RMSE: 0.215 - Calib-Err 0.107\n",
      "[2020-01-14 11:17:52,930 -INFO]  Iter 8000/10000 - Loss: -0.206361 - Time 10.44 sec - Valid-LL: 0.347 - Valid-RMSE: 0.209 - Calib-Err 0.104\n",
      "[2020-01-14 11:18:03,433 -INFO]  Iter 8500/10000 - Loss: -0.207291 - Time 10.41 sec - Valid-LL: 0.401 - Valid-RMSE: 0.212 - Calib-Err 0.109\n",
      "[2020-01-14 11:18:13,851 -INFO]  Iter 9000/10000 - Loss: -0.210368 - Time 10.36 sec - Valid-LL: 0.271 - Valid-RMSE: 0.216 - Calib-Err 0.112\n",
      "[2020-01-14 11:18:24,172 -INFO]  Iter 9500/10000 - Loss: -0.210939 - Time 10.17 sec - Valid-LL: 0.247 - Valid-RMSE: 0.215 - Calib-Err 0.111\n",
      "[2020-01-14 11:18:34,606 -INFO]  Iter 10000/10000 - Loss: -0.217849 - Time 10.42 sec - Valid-LL: 0.225 - Valid-RMSE: 0.215 - Calib-Err 0.109\n"
     ]
    },
    {
     "data": {
      "text/plain": [
       "-0.3051708936691284"
      ]
     },
     "execution_count": 8,
     "metadata": {},
     "output_type": "execute_result"
    }
   ],
   "source": [
    "meta_gp.meta_fit(valid_tuples=meta_test_data)"
   ]
  },
  {
   "cell_type": "code",
   "execution_count": 9,
   "metadata": {},
   "outputs": [],
   "source": [
    "test_context_x, test_context_y, test_target_x, test_target_y = meta_test_data[0]"
   ]
  },
  {
   "cell_type": "code",
   "execution_count": 10,
   "metadata": {},
   "outputs": [
    {
     "data": {
      "image/png": "[encoded data removed]",
      "text/plain": [
       "<Figure size 432x288 with 1 Axes>"
      ]
     },
     "metadata": {
      "needs_background": "light"
     },
     "output_type": "display_data"
    }
   ],
   "source": [
    "x_plot = np.linspace(-5, 5, num=150)\n",
    "pred_mean, pred_std = meta_gp.predict(context_x=test_context_x, context_y=test_context_y, test_x=x_plot)\n",
    "ucb, lcb = meta_gp.confidence_intervals(test_context_x, test_context_y, x_plot, confidence=0.9)\n",
    "\n",
    "plt.scatter(test_context_x, test_context_y)\n",
    "plt.scatter(test_target_x, test_target_y)\n",
    "\n",
    "plt.plot(x_plot, pred_mean)\n",
    "plt.fill_between(x_plot, lcb, ucb, alpha=0.2)\n",
    "plt.title('GPR meta mll')\n",
    "plt.show()"
   ]
  },
  {
   "cell_type": "code",
   "execution_count": 11,
   "metadata": {},
   "outputs": [],
   "source": [
    "old_state = meta_gp.state_dict()"
   ]
  },
  {
   "cell_type": "code",
   "execution_count": 12,
   "metadata": {},
   "outputs": [
    {
     "data": {
      "text/plain": [
       "0.03755927965327096"
      ]
     },
     "execution_count": 12,
     "metadata": {},
     "output_type": "execute_result"
    }
   ],
   "source": [
    "pred_mean, pred_std = meta_gp.predict(context_x=test_context_x, context_y=test_context_y, test_x=test_target_x)\n",
    "\n",
    "((pred_mean - test_target_y.flatten())**2).mean()"
   ]
  },
  {
   "cell_type": "code",
   "execution_count": 13,
   "metadata": {},
   "outputs": [],
   "source": [
    "meta_gp = GPRegressionMetaLearned(meta_train_data=meta_train_data)"
   ]
  },
  {
   "cell_type": "code",
   "execution_count": 14,
   "metadata": {},
   "outputs": [
    {
     "data": {
      "text/plain": [
       "1.9189466963648072"
      ]
     },
     "execution_count": 14,
     "metadata": {},
     "output_type": "execute_result"
    }
   ],
   "source": [
    "pred_mean, pred_std = meta_gp.predict(context_x=test_context_x, context_y=test_context_y, test_x=test_target_x)\n",
    "\n",
    "((pred_mean - test_target_y.flatten())**2).mean()"
   ]
  },
  {
   "cell_type": "code",
   "execution_count": 15,
   "metadata": {},
   "outputs": [],
   "source": [
    "meta_gp.load_state_dict(old_state)"
   ]
  },
  {
   "cell_type": "code",
   "execution_count": 16,
   "metadata": {},
   "outputs": [
    {
     "data": {
      "text/plain": [
       "0.03755927965327096"
      ]
     },
     "execution_count": 16,
     "metadata": {},
     "output_type": "execute_result"
    }
   ],
   "source": [
    "pred_mean, pred_std = meta_gp.predict(context_x=test_context_x, context_y=test_context_y, test_x=test_target_x)\n",
    "\n",
    "((pred_mean - test_target_y.flatten())**2).mean()"
   ]
  },
  {
   "cell_type": "markdown",
   "metadata": {},
   "source": [
    "## Build NP model"
   ]
  },
  {
   "cell_type": "code",
   "execution_count": 17,
   "metadata": {},
   "outputs": [],
   "source": [
    "import time\n",
    "\n",
    "from torch.distributions.kl import kl_divergence\n",
    "from torch.utils.data import DataLoader\n",
    "\n",
    "from third_party.neural_processes.utils import context_target_split\n",
    "from third_party.neural_processes.training import NeuralProcessTrainer\n",
    "from third_party.neural_processes.datasets import SineData\n",
    "from third_party.neural_processes.neural_process import NeuralProcess\n",
    "\n",
    "from src.models import LearnedGPRegressionModel, NeuralNetwork, AffineTransformedDistribution\n",
    "from src.util import _handle_input_dimensionality, DummyLRScheduler\n",
    "from src.abstract import RegressionModelMetaLearned\n",
    "from config import device\n",
    "\n",
    "%load_ext autoreload\n",
    "%autoreload 2"
   ]
  },
  {
   "cell_type": "code",
   "execution_count": 18,
   "metadata": {},
   "outputs": [],
   "source": [
    "class NPRegressionMetaLearned(RegressionModelMetaLearned):\n",
    "\n",
    "    def __init__(self, meta_train_data, num_context, num_extra_target, lr_params=1e-3, r_dim=50, z_dim=50, h_dim=50, num_iter_fit=10000,\n",
    "                 task_batch_size=5, normalize_data=True, optimizer='Adam', lr_decay=1.0, random_seed=None):\n",
    "        \"\"\"\n",
    "        Neural Process regression model (https://arxiv.org/abs/1807.01622) that supports meta-learning.\n",
    "\n",
    "        Args:\n",
    "            meta_train_data: list of tuples of ndarrays[(train_x_1, train_t_1), ..., (train_x_n, train_t_n)]\n",
    "            lr_params: (float) learning rate for prior parameters\n",
    "            r_dim: (float) dimensionality of the context representation\n",
    "            z_dim: (float) dimensionality of the latent variable\n",
    "            h_dim: (float) layer width of encoder and decoder\n",
    "            num_iter_fit: (int) number of gradient steps for fitting the parameters\n",
    "            task_batch_size: (int) batch size for meta training, i.e. number of tasks for computing grads\n",
    "            normalize_data: (bool) decides whether the input data should be normalized\n",
    "            optimizer: (str) type of optimizer to use - must be either 'Adam' or 'SGD'\n",
    "            lr_decay: (float) decay rate for the learning rate\n",
    "            random_seed: (int) seed for pytorch\n",
    "        \"\"\"\n",
    "        super().__init__(normalize_data, random_seed)\n",
    "\n",
    "        assert optimizer in ['Adam', 'SGD']\n",
    "\n",
    "        self.num_context, self.num_extra_target = num_context, num_extra_target\n",
    "        self.lr_params, self.r_dim, self.z_dim, self.h_dim = lr_params, r_dim, z_dim, h_dim\n",
    "        self.num_iter_fit, self.task_batch_size, self.normalize_data = num_iter_fit, task_batch_size, normalize_data\n",
    "\n",
    "        # Check that data all has the same size\n",
    "        self._check_meta_data_shapes(meta_train_data)\n",
    "        self._compute_normalization_stats(meta_train_data)\n",
    "        \n",
    "        self.input_dim = meta_train_data[0][0].shape[-1]\n",
    "        self.output_dim = meta_train_data[0][1].shape[-1]\n",
    "        \n",
    "        self.model = NeuralProcess(x_dim=self.input_dim,\n",
    "                                  y_dim=self.output_dim,\n",
    "                                  r_dim=self.r_dim,\n",
    "                                  z_dim=self.z_dim,\n",
    "                                  h_dim=self.h_dim)\n",
    "\n",
    "        # Setup components that are shared across tasks\n",
    "        self.shared_parameters = self.model.parameters()\n",
    "\n",
    "        # Setup components that are different across tasks\n",
    "        self.task_dicts = []\n",
    "\n",
    "        for train_x, train_y in meta_train_data: # TODO: consider parallelizing this loop\n",
    "            task_dict = {}\n",
    "            \n",
    "            if len(train_x) < 10:\n",
    "                print(len(train_x))\n",
    "\n",
    "            # a) prepare data\n",
    "            x_tensor, y_tensor = self._prepare_data_per_task(train_x, train_y, flatten_y=False)\n",
    "            task_dict['train_x'], task_dict['train_y'] = x_tensor, y_tensor\n",
    "\n",
    "            self.task_dicts.append(task_dict)\n",
    "\n",
    "        # c) prepare inference\n",
    "        self._setup_optimizer(optimizer, lr_params, lr_decay)\n",
    "\n",
    "        self.fitted = False\n",
    "\n",
    "\n",
    "    def meta_fit(self, valid_tuples=None, verbose=True, log_period=500, n_iter=None):\n",
    "        \"\"\"\n",
    "        fits the parameters of the Neural Process model\n",
    "\n",
    "        Args:\n",
    "            valid_tuples: list of valid tuples, i.e. [(test_context_x_1, test_context_t_1, test_x_1, test_t_1), ...]\n",
    "            verbose: (boolean) whether to print training progress\n",
    "            log_period: (int) number of steps after which to print stats\n",
    "            n_iter: (int) number of gradient descent iterations\n",
    "        \"\"\"\n",
    "        self.model.train()\n",
    "\n",
    "        assert (valid_tuples is None) or (all([len(valid_tuple) == 4 for valid_tuple in valid_tuples]))\n",
    "\n",
    "        t = time.time()\n",
    "        cum_loss = 0.0\n",
    "\n",
    "        if n_iter is None:\n",
    "            n_iter = self.num_iter_fit\n",
    "\n",
    "        for itr in range(1, n_iter + 1):\n",
    "\n",
    "            loss = 0.0\n",
    "            self.optimizer.zero_grad()\n",
    "                \n",
    "            batch = self.rds_numpy.choice(self.task_dicts, size=self.task_batch_size)\n",
    "            batch_x = torch.stack([task[\"train_x\"] for task in batch])\n",
    "            batch_y = torch.stack([task[\"train_y\"] for task in batch])\n",
    "                        \n",
    "            x_context, y_context, x_target, y_target = \\\n",
    "                context_target_split(batch_x, batch_y,\n",
    "                                     self.num_context, self.num_extra_target)\n",
    "            p_y_pred, q_target, q_context = \\\n",
    "                self.model(x_context, y_context, x_target, y_target)\n",
    "            loss = self._loss(p_y_pred, y_target, q_target, q_context)\n",
    "\n",
    "            loss.backward()\n",
    "            self.optimizer.step()\n",
    "            self.lr_scheduler.step()\n",
    "\n",
    "            cum_loss += loss\n",
    "\n",
    "            # print training stats stats\n",
    "            if itr == 1 or itr % log_period == 0:\n",
    "                duration = time.time() - t\n",
    "                avg_loss = cum_loss / (log_period if itr > 1 else 1.0)\n",
    "                cum_loss = 0.0\n",
    "                t = time.time()\n",
    "\n",
    "                message = 'Iter %d/%d - Loss: %.6f - Time %.2f sec' % (itr, self.num_iter_fit, avg_loss.item(), duration)\n",
    "\n",
    "                # if validation data is provided  -> compute the valid log-likelihood\n",
    "                if valid_tuples is not None:\n",
    "                    self.model.eval()\n",
    "                    valid_ll, valid_rmse, calibr_err = self.eval_datasets(valid_tuples, flatten_y=False)\n",
    "                    self.model.train()\n",
    "                    message += ' - Valid-LL: %.3f - Valid-RMSE: %.3f - Calib-Err %.3f' % (valid_ll, valid_rmse, calibr_err)\n",
    "\n",
    "                if verbose:\n",
    "                    self.logger.info(message)\n",
    "\n",
    "\n",
    "        self.fitted = True\n",
    "\n",
    "        self.model.eval()\n",
    "        return loss.item()\n",
    "\n",
    "    \n",
    "    def predict(self, context_x, context_y, test_x, return_density=False):\n",
    "        \"\"\"\n",
    "        computes the predictive distribution of the targets p(t|test_x, test_context_x, context_y)\n",
    "\n",
    "        Args:\n",
    "            context_x: (ndarray) context input data for which to compute the posterior\n",
    "            context_y: (ndarray) context targets for which to compute the posterior\n",
    "            test_x: (ndarray) query input data of shape (n_samples, ndim_x)\n",
    "            return_density: (bool) whether to return result as mean and std ndarray or as MultivariateNormal pytorch object\n",
    "\n",
    "        Returns:\n",
    "            (pred_mean, pred_std) predicted mean and standard deviation corresponding to p(t|test_x, test_context_x, context_y)\n",
    "        \"\"\"\n",
    "\n",
    "        train_old = self.model.training\n",
    "        self.model.eval()\n",
    "        \n",
    "        context_x, context_y = _handle_input_dimensionality(context_x, context_y)\n",
    "        test_x = _handle_input_dimensionality(test_x)\n",
    "        assert test_x.shape[1] == context_x.shape[1]\n",
    "\n",
    "        # normalize data and convert to tensor\n",
    "        context_x, context_y = self._prepare_data_per_task(context_x, context_y, flatten_y=False)\n",
    "\n",
    "        test_x = self._normalize_data(X=test_x, Y=None)\n",
    "        test_x = torch.from_numpy(test_x).float().to(device)\n",
    "        \n",
    "        context_x = torch.unsqueeze(context_x, 0)\n",
    "        context_y = torch.unsqueeze(context_y, 0)\n",
    "        test_x = torch.unsqueeze(test_x, 0)\n",
    "\n",
    "        with torch.no_grad():\n",
    "            # compute posterior given the context data\n",
    "            pred_dist = self.model(context_x, context_y, test_x)\n",
    "            pred_dist_transformed = AffineTransformedDistribution(pred_dist, normalization_mean=self.y_mean,\n",
    "                                                                  normalization_std=self.y_std)            \n",
    "\n",
    "        if train_old:\n",
    "            self.model.train()\n",
    "            \n",
    "        if return_density:\n",
    "            return pred_dist_transformed\n",
    "        else:\n",
    "            pred_mean = pred_dist_transformed.mean\n",
    "            pred_std = pred_dist_transformed.stddev\n",
    "            return pred_mean.cpu().numpy(), pred_std.cpu().numpy()\n",
    "\n",
    "        \n",
    "    def state_dict(self):\n",
    "        state_dict = {\n",
    "            'optimizer': self.optimizer.state_dict(),\n",
    "            'model': self.model.state_dict()\n",
    "        }\n",
    "        for key, tensor in self.model.state_dict().items():\n",
    "            assert torch.all(state_dict['model'][key] == tensor).item()\n",
    "        return state_dict\n",
    "\n",
    "    \n",
    "    def load_state_dict(self, state_dict):\n",
    "        self.model.load_state_dict(state_dict['model'])\n",
    "        self.optimizer.load_state_dict(state_dict['optimizer'])\n",
    "        \n",
    "        \n",
    "    def _loss(self, p_y_pred, y_target, q_target, q_context):\n",
    "        \"\"\"\n",
    "        Computes Neural Process loss.\n",
    "\n",
    "        Parameters\n",
    "        ----------\n",
    "        p_y_pred : one of torch.distributions.Distribution\n",
    "            Distribution over y output by Neural Process.\n",
    "\n",
    "        y_target : torch.Tensor\n",
    "            Shape (batch_size, num_target, y_dim)\n",
    "\n",
    "        q_target : one of torch.distributions.Distribution\n",
    "            Latent distribution for target points.\n",
    "\n",
    "        q_context : one of torch.distributions.Distribution\n",
    "            Latent distribution for context points.\n",
    "        \"\"\"\n",
    "        # Log likelihood has shape (batch_size, num_target, y_dim). Take mean\n",
    "        # over batch and sum over number of targets and dimensions of y\n",
    "        log_likelihood = p_y_pred.log_prob(y_target).mean(dim=0).sum()\n",
    "        # KL has shape (batch_size, r_dim). Take mean over batch and sum over\n",
    "        # r_dim (since r_dim is dimension of normal distribution)\n",
    "        kl = kl_divergence(q_target, q_context).mean(dim=0).sum()\n",
    "        return -log_likelihood + kl\n",
    "    \n",
    "\n",
    "    def _setup_optimizer(self, optimizer, lr, lr_decay):\n",
    "        if optimizer == 'Adam':\n",
    "            self.optimizer = torch.optim.AdamW(self.shared_parameters, lr=lr)\n",
    "        elif optimizer == 'SGD':\n",
    "            self.optimizer = torch.optim.SGD(self.shared_parameters, lr=lr)\n",
    "        else:\n",
    "            raise NotImplementedError('Optimizer must be Adam or SGD')\n",
    "\n",
    "        if lr_decay < 1.0:\n",
    "            self.lr_scheduler = torch.optim.lr_scheduler.StepLR(self.optimizer, 1000, gamma=lr_decay)\n",
    "        else:\n",
    "            self.lr_scheduler = DummyLRScheduler()\n",
    "\n",
    "            \n",
    "    def _vectorize_pred_dist(self, pred_dist):\n",
    "        return torch.distributions.Normal(pred_dist.mean, pred_dist.stddev)\n",
    "    \n",
    "    \n",
    "#     def confidence_intervals(self, context_x, context_y, test_x, confidence=0.9, **kwargs):\n",
    "#         pred_dist = self.predict(context_x, context_y, test_x, return_density=True, **kwargs)\n",
    "#         pred_dist = self._vectorize_pred_dist(pred_dist)\n",
    "        \n",
    "#         alpha = (1-confidence) / 2\n",
    "#         ucb = pred_dist.icdf(torch.ones(test_x.shape) * (1-alpha))\n",
    "#         lcb = pred_dist.icdf(torch.ones(test_x.shape) * alpha)\n",
    "#         return ucb, lcb"
   ]
  },
  {
   "cell_type": "code",
   "execution_count": 19,
   "metadata": {},
   "outputs": [
    {
     "name": "stderr",
     "output_type": "stream",
     "text": [
      "[2020-01-14 11:18:35,621 -INFO]  Iter 1/10000 - Loss: 15.387986 - Time 0.01 sec - Valid-LL: -0.013 - Valid-RMSE: 1.611 - Calib-Err 0.566\n",
      "[2020-01-14 11:18:38,598 -INFO]  Iter 500/10000 - Loss: 8.261107 - Time 2.98 sec - Valid-LL: -0.008 - Valid-RMSE: 0.789 - Calib-Err 0.566\n",
      "[2020-01-14 11:18:41,894 -INFO]  Iter 1000/10000 - Loss: 5.951960 - Time 3.26 sec - Valid-LL: -0.006 - Valid-RMSE: 0.666 - Calib-Err 0.566\n",
      "[2020-01-14 11:18:45,204 -INFO]  Iter 1500/10000 - Loss: 1.448095 - Time 3.29 sec - Valid-LL: -0.003 - Valid-RMSE: 0.419 - Calib-Err 0.567\n",
      "[2020-01-14 11:18:48,589 -INFO]  Iter 2000/10000 - Loss: -1.143201 - Time 3.37 sec - Valid-LL: -0.003 - Valid-RMSE: 0.358 - Calib-Err 0.567\n",
      "[2020-01-14 11:18:51,966 -INFO]  Iter 2500/10000 - Loss: -2.516271 - Time 3.36 sec - Valid-LL: -0.003 - Valid-RMSE: 0.335 - Calib-Err 0.566\n",
      "[2020-01-14 11:18:55,351 -INFO]  Iter 3000/10000 - Loss: -3.142339 - Time 3.37 sec - Valid-LL: -0.003 - Valid-RMSE: 0.350 - Calib-Err 0.566\n",
      "[2020-01-14 11:18:58,770 -INFO]  Iter 3500/10000 - Loss: -3.565526 - Time 3.39 sec - Valid-LL: -0.003 - Valid-RMSE: 0.337 - Calib-Err 0.566\n",
      "[2020-01-14 11:19:02,173 -INFO]  Iter 4000/10000 - Loss: -4.048120 - Time 3.38 sec - Valid-LL: -0.004 - Valid-RMSE: 0.333 - Calib-Err 0.566\n",
      "[2020-01-14 11:19:05,528 -INFO]  Iter 4500/10000 - Loss: -4.239734 - Time 3.33 sec - Valid-LL: -0.003 - Valid-RMSE: 0.319 - Calib-Err 0.566\n",
      "[2020-01-14 11:19:08,892 -INFO]  Iter 5000/10000 - Loss: -4.655545 - Time 3.34 sec - Valid-LL: -0.003 - Valid-RMSE: 0.327 - Calib-Err 0.566\n",
      "[2020-01-14 11:19:12,284 -INFO]  Iter 5500/10000 - Loss: -5.042200 - Time 3.36 sec - Valid-LL: -0.002 - Valid-RMSE: 0.299 - Calib-Err 0.566\n",
      "[2020-01-14 11:19:15,559 -INFO]  Iter 6000/10000 - Loss: -5.432338 - Time 3.25 sec - Valid-LL: -0.004 - Valid-RMSE: 0.339 - Calib-Err 0.567\n",
      "[2020-01-14 11:19:18,837 -INFO]  Iter 6500/10000 - Loss: -5.637241 - Time 3.25 sec - Valid-LL: -0.003 - Valid-RMSE: 0.300 - Calib-Err 0.566\n",
      "[2020-01-14 11:19:22,120 -INFO]  Iter 7000/10000 - Loss: -5.949912 - Time 3.26 sec - Valid-LL: -0.003 - Valid-RMSE: 0.287 - Calib-Err 0.566\n",
      "[2020-01-14 11:19:25,242 -INFO]  Iter 7500/10000 - Loss: -6.301532 - Time 3.09 sec - Valid-LL: -0.004 - Valid-RMSE: 0.304 - Calib-Err 0.567\n",
      "[2020-01-14 11:19:28,344 -INFO]  Iter 8000/10000 - Loss: -6.226335 - Time 3.08 sec - Valid-LL: -0.004 - Valid-RMSE: 0.306 - Calib-Err 0.566\n",
      "[2020-01-14 11:19:31,493 -INFO]  Iter 8500/10000 - Loss: -6.635290 - Time 3.13 sec - Valid-LL: -0.004 - Valid-RMSE: 0.321 - Calib-Err 0.566\n",
      "[2020-01-14 11:19:34,693 -INFO]  Iter 9000/10000 - Loss: -7.065798 - Time 3.19 sec - Valid-LL: -0.004 - Valid-RMSE: 0.308 - Calib-Err 0.567\n",
      "[2020-01-14 11:19:37,813 -INFO]  Iter 9500/10000 - Loss: -7.216625 - Time 3.08 sec - Valid-LL: -0.005 - Valid-RMSE: 0.306 - Calib-Err 0.566\n",
      "[2020-01-14 11:19:41,243 -INFO]  Iter 10000/10000 - Loss: -7.424219 - Time 3.41 sec - Valid-LL: -0.004 - Valid-RMSE: 0.303 - Calib-Err 0.566\n"
     ]
    },
    {
     "data": {
      "text/plain": [
       "-5.807465076446533"
      ]
     },
     "execution_count": 19,
     "metadata": {},
     "output_type": "execute_result"
    }
   ],
   "source": [
    "meta_np = NPRegressionMetaLearned(meta_train_data=meta_train_data, num_context=5, num_extra_target=5)\n",
    "meta_np.meta_fit(valid_tuples=meta_test_data)"
   ]
  },
  {
   "cell_type": "code",
   "execution_count": 20,
   "metadata": {},
   "outputs": [],
   "source": [
    "test_context_x, test_context_y, test_target_x, test_target_y = meta_test_data[0]"
   ]
  },
  {
   "cell_type": "code",
   "execution_count": 21,
   "metadata": {},
   "outputs": [
    {
     "data": {
      "image/png": "[encoded data removed]",
      "text/plain": [
       "<Figure size 432x288 with 1 Axes>"
      ]
     },
     "metadata": {
      "needs_background": "light"
     },
     "output_type": "display_data"
    }
   ],
   "source": [
    "x_plot = np.linspace(-5, 5, num=150)\n",
    "x_plot = x_plot[:, np.newaxis]\n",
    "pred_mean, pred_std = meta_np.predict(context_x=test_context_x, context_y=test_context_y, test_x=x_plot)\n",
    "ucb, lcb = meta_np.confidence_intervals(test_context_x, test_context_y, x_plot, confidence=0.9)\n",
    "\n",
    "plt.scatter(test_context_x, test_context_y)\n",
    "plt.scatter(test_target_x, test_target_y)\n",
    "\n",
    "plt.plot(x_plot.flatten(), pred_mean.flatten())\n",
    "plt.fill_between(x_plot.flatten(), lcb.flatten(), ucb.flatten(), alpha=0.2)\n",
    "plt.title('NPR meta mll')\n",
    "plt.show()"
   ]
  },
  {
   "cell_type": "code",
   "execution_count": 22,
   "metadata": {},
   "outputs": [],
   "source": [
    "old_state = meta_np.state_dict()"
   ]
  },
  {
   "cell_type": "code",
   "execution_count": 23,
   "metadata": {},
   "outputs": [
    {
     "data": {
      "text/plain": [
       "0.12843614968023043"
      ]
     },
     "execution_count": 23,
     "metadata": {},
     "output_type": "execute_result"
    }
   ],
   "source": [
    "pred_mean, pred_std = meta_np.predict(context_x=test_context_x, context_y=test_context_y, test_x=test_target_x)\n",
    "\n",
    "((pred_mean.flatten() - test_target_y.flatten())**2).mean()"
   ]
  },
  {
   "cell_type": "code",
   "execution_count": 24,
   "metadata": {},
   "outputs": [],
   "source": [
    "meta_np = NPRegressionMetaLearned(meta_train_data=meta_train_data, num_context=5, num_extra_target=5)\n",
    "meta_np.model.eval();"
   ]
  },
  {
   "cell_type": "code",
   "execution_count": 25,
   "metadata": {},
   "outputs": [
    {
     "data": {
      "text/plain": [
       "1.9841821035021225"
      ]
     },
     "execution_count": 25,
     "metadata": {},
     "output_type": "execute_result"
    }
   ],
   "source": [
    "pred_mean, pred_std = meta_np.predict(context_x=test_context_x, context_y=test_context_y, test_x=test_target_x)\n",
    "\n",
    "((pred_mean.flatten() - test_target_y.flatten())**2).mean()"
   ]
  },
  {
   "cell_type": "code",
   "execution_count": 26,
   "metadata": {},
   "outputs": [],
   "source": [
    "meta_np.load_state_dict(old_state)"
   ]
  },
  {
   "cell_type": "code",
   "execution_count": 27,
   "metadata": {},
   "outputs": [
    {
     "data": {
      "text/plain": [
       "0.10661827232542223"
      ]
     },
     "execution_count": 27,
     "metadata": {},
     "output_type": "execute_result"
    }
   ],
   "source": [
    "pred_mean, pred_std = meta_np.predict(context_x=test_context_x, context_y=test_context_y, test_x=test_target_x)\n",
    "\n",
    "((pred_mean.flatten() - test_target_y.flatten())**2).mean()"
   ]
  },
  {
   "cell_type": "code",
   "execution_count": null,
   "metadata": {},
   "outputs": [],
   "source": []
  }
 ],
 "metadata": {
  "kernelspec": {
   "display_name": "Python 3",
   "language": "python",
   "name": "python3"
  },
  "language_info": {
   "codemirror_mode": {
    "name": "ipython",
    "version": 3
   },
   "file_extension": ".py",
   "mimetype": "text/x-python",
   "name": "python",
   "nbconvert_exporter": "python",
   "pygments_lexer": "ipython3",
   "version": "3.6.7"
  }
 },
 "nbformat": 4,
 "nbformat_minor": 2
}
